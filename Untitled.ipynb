{
 "cells": [
  {
   "cell_type": "code",
   "execution_count": 1,
   "metadata": {},
   "outputs": [],
   "source": [
    "# creating own module\n",
    "\n",
    "from types import ModuleType\n",
    "\n",
    "test = ModuleType('test', 'This is test module')"
   ]
  },
  {
   "cell_type": "code",
   "execution_count": 2,
   "metadata": {},
   "outputs": [
    {
     "data": {
      "text/plain": [
       "<module 'test'>"
      ]
     },
     "execution_count": 2,
     "metadata": {},
     "output_type": "execute_result"
    }
   ],
   "source": [
    "test"
   ]
  },
  {
   "cell_type": "code",
   "execution_count": 3,
   "metadata": {},
   "outputs": [
    {
     "data": {
      "text/plain": [
       "'This is test module'"
      ]
     },
     "execution_count": 3,
     "metadata": {},
     "output_type": "execute_result"
    }
   ],
   "source": [
    "test.__doc__"
   ]
  },
  {
   "cell_type": "code",
   "execution_count": 4,
   "metadata": {},
   "outputs": [
    {
     "data": {
      "text/plain": [
       "{'__name__': 'test',\n",
       " '__doc__': 'This is test module',\n",
       " '__package__': None,\n",
       " '__loader__': None,\n",
       " '__spec__': None}"
      ]
     },
     "execution_count": 4,
     "metadata": {},
     "output_type": "execute_result"
    }
   ],
   "source": [
    "test.__dict__"
   ]
  },
  {
   "cell_type": "code",
   "execution_count": 5,
   "metadata": {},
   "outputs": [],
   "source": [
    "test.hello = lambda: 'Hello'"
   ]
  },
  {
   "cell_type": "code",
   "execution_count": 7,
   "metadata": {},
   "outputs": [
    {
     "data": {
      "text/plain": [
       "{'__name__': 'test',\n",
       " '__doc__': 'This is test module',\n",
       " '__package__': None,\n",
       " '__loader__': None,\n",
       " '__spec__': None,\n",
       " 'hello': <function __main__.<lambda>()>}"
      ]
     },
     "execution_count": 7,
     "metadata": {},
     "output_type": "execute_result"
    }
   ],
   "source": [
    "test.__dict__"
   ]
  },
  {
   "cell_type": "code",
   "execution_count": 9,
   "metadata": {},
   "outputs": [
    {
     "data": {
      "text/plain": [
       "'Hello'"
      ]
     },
     "execution_count": 9,
     "metadata": {},
     "output_type": "execute_result"
    }
   ],
   "source": [
    "test.hello()"
   ]
  },
  {
   "cell_type": "code",
   "execution_count": 10,
   "metadata": {},
   "outputs": [
    {
     "data": {
      "text/plain": [
       "{'__name__': '__main__',\n",
       " '__doc__': 'Automatically created module for IPython interactive environment',\n",
       " '__package__': None,\n",
       " '__loader__': None,\n",
       " '__spec__': None,\n",
       " '__builtin__': <module 'builtins' (built-in)>,\n",
       " '__builtins__': <module 'builtins' (built-in)>,\n",
       " '_ih': ['',\n",
       "  \"# creating own module\\n\\nfrom types import ModuleType\\n\\ntest = ModuleType('test', 'This is test module')\",\n",
       "  'test',\n",
       "  'test.__doc__',\n",
       "  'test.__dict__',\n",
       "  \"test.hello = lambda: 'Hello'\",\n",
       "  'test.__dic__',\n",
       "  'test.__dict__',\n",
       "  'test.hello',\n",
       "  'test.hello()',\n",
       "  'globals()'],\n",
       " '_oh': {2: <module 'test'>,\n",
       "  3: 'This is test module',\n",
       "  4: {'__name__': 'test',\n",
       "   '__doc__': 'This is test module',\n",
       "   '__package__': None,\n",
       "   '__loader__': None,\n",
       "   '__spec__': None,\n",
       "   'hello': <function __main__.<lambda>()>},\n",
       "  7: {'__name__': 'test',\n",
       "   '__doc__': 'This is test module',\n",
       "   '__package__': None,\n",
       "   '__loader__': None,\n",
       "   '__spec__': None,\n",
       "   'hello': <function __main__.<lambda>()>},\n",
       "  8: <function __main__.<lambda>()>,\n",
       "  9: 'Hello'},\n",
       " '_dh': ['/Users/natigvahabov/Dev/github/deep-dive-python'],\n",
       " 'In': ['',\n",
       "  \"# creating own module\\n\\nfrom types import ModuleType\\n\\ntest = ModuleType('test', 'This is test module')\",\n",
       "  'test',\n",
       "  'test.__doc__',\n",
       "  'test.__dict__',\n",
       "  \"test.hello = lambda: 'Hello'\",\n",
       "  'test.__dic__',\n",
       "  'test.__dict__',\n",
       "  'test.hello',\n",
       "  'test.hello()',\n",
       "  'globals()'],\n",
       " 'Out': {2: <module 'test'>,\n",
       "  3: 'This is test module',\n",
       "  4: {'__name__': 'test',\n",
       "   '__doc__': 'This is test module',\n",
       "   '__package__': None,\n",
       "   '__loader__': None,\n",
       "   '__spec__': None,\n",
       "   'hello': <function __main__.<lambda>()>},\n",
       "  7: {'__name__': 'test',\n",
       "   '__doc__': 'This is test module',\n",
       "   '__package__': None,\n",
       "   '__loader__': None,\n",
       "   '__spec__': None,\n",
       "   'hello': <function __main__.<lambda>()>},\n",
       "  8: <function __main__.<lambda>()>,\n",
       "  9: 'Hello'},\n",
       " 'get_ipython': <bound method InteractiveShell.get_ipython of <ipykernel.zmqshell.ZMQInteractiveShell object at 0x1110b1c18>>,\n",
       " 'exit': <IPython.core.autocall.ZMQExitAutocall at 0x11110cf28>,\n",
       " 'quit': <IPython.core.autocall.ZMQExitAutocall at 0x11110cf28>,\n",
       " '_': 'Hello',\n",
       " '__': <function __main__.<lambda>()>,\n",
       " '___': {'__name__': 'test',\n",
       "  '__doc__': 'This is test module',\n",
       "  '__package__': None,\n",
       "  '__loader__': None,\n",
       "  '__spec__': None,\n",
       "  'hello': <function __main__.<lambda>()>},\n",
       " '_i': 'test.hello()',\n",
       " '_ii': 'test.hello',\n",
       " '_iii': 'test.__dict__',\n",
       " '_i1': \"# creating own module\\n\\nfrom types import ModuleType\\n\\ntest = ModuleType('test', 'This is test module')\",\n",
       " 'ModuleType': module,\n",
       " 'test': <module 'test'>,\n",
       " '_i2': 'test',\n",
       " '_2': <module 'test'>,\n",
       " '_i3': 'test.__doc__',\n",
       " '_3': 'This is test module',\n",
       " '_i4': 'test.__dict__',\n",
       " '_4': {'__name__': 'test',\n",
       "  '__doc__': 'This is test module',\n",
       "  '__package__': None,\n",
       "  '__loader__': None,\n",
       "  '__spec__': None,\n",
       "  'hello': <function __main__.<lambda>()>},\n",
       " '_i5': \"test.hello = lambda: 'Hello'\",\n",
       " '_i6': 'test.__dic__',\n",
       " '_i7': 'test.__dict__',\n",
       " '_7': {'__name__': 'test',\n",
       "  '__doc__': 'This is test module',\n",
       "  '__package__': None,\n",
       "  '__loader__': None,\n",
       "  '__spec__': None,\n",
       "  'hello': <function __main__.<lambda>()>},\n",
       " '_i8': 'test.hello',\n",
       " '_8': <function __main__.<lambda>()>,\n",
       " '_i9': 'test.hello()',\n",
       " '_9': 'Hello',\n",
       " '_i10': 'globals()'}"
      ]
     },
     "execution_count": 10,
     "metadata": {},
     "output_type": "execute_result"
    }
   ],
   "source": [
    "globals()"
   ]
  },
  {
   "cell_type": "code",
   "execution_count": 11,
   "metadata": {},
   "outputs": [
    {
     "name": "stdout",
     "output_type": "stream",
     "text": [
      "{'a': 2}\n"
     ]
    }
   ],
   "source": [
    "def func():\n",
    "    a=2\n",
    "    print(locals())\n",
    "    pass\n",
    "\n",
    "func()"
   ]
  },
  {
   "cell_type": "code",
   "execution_count": 21,
   "metadata": {},
   "outputs": [
    {
     "name": "stdout",
     "output_type": "stream",
     "text": [
      "{'sys': <module 'sys' (built-in)>, 'builtins': <module 'builtins' (built-in)>, '_frozen_importlib': <module 'importlib._bootstrap' (frozen)>, '_imp': <module '_imp' (built-in)>, '_thread': <module '_thread' (built-in)>, '_warnings': <module '_warnings' (built-in)>, '_weakref': <module '_weakref' (built-in)>, 'zipimport': <module 'zipimport' (built-in)>, '_frozen_importlib_external': <module 'importlib._bootstrap_external' (frozen)>, '_io': <module 'io' (built-in)>, 'marshal': <module 'marshal' (built-in)>, 'posix': <module 'posix' (built-in)>, 'encodings': <module 'encodings' from '/Library/Frameworks/Python.framework/Versions/3.7/lib/python3.7/encodings/__init__.py'>, 'codecs': <module 'codecs' from '/Library/Frameworks/Python.framework/Versions/3.7/lib/python3.7/codecs.py'>, '_codecs': <module '_codecs' (built-in)>, 'encodings.aliases': <module 'encodings.aliases' from '/Library/Frameworks/Python.framework/Versions/3.7/lib/python3.7/encodings/aliases.py'>, 'encodings.utf_8': <module 'encodings.utf_8' from '/Library/Frameworks/Python.framework/Versions/3.7/lib/python3.7/encodings/utf_8.py'>, '_signal': <module '_signal' (built-in)>, '__main__': <module '__main__'>, 'encodings.latin_1': <module 'encodings.latin_1' from '/Library/Frameworks/Python.framework/Versions/3.7/lib/python3.7/encodings/latin_1.py'>, 'io': <module 'io' from '/Library/Frameworks/Python.framework/Versions/3.7/lib/python3.7/io.py'>, 'abc': <module 'abc' from '/Library/Frameworks/Python.framework/Versions/3.7/lib/python3.7/abc.py'>, '_abc': <module '_abc' (built-in)>, '_bootlocale': <module '_bootlocale' from '/Library/Frameworks/Python.framework/Versions/3.7/lib/python3.7/_bootlocale.py'>, '_locale': <module '_locale' (built-in)>, 'site': <module 'site' from '/Library/Frameworks/Python.framework/Versions/3.7/lib/python3.7/site.py'>, 'os': <module 'os' from '/Library/Frameworks/Python.framework/Versions/3.7/lib/python3.7/os.py'>, 'stat': <module 'stat' from '/Library/Frameworks/Python.framework/Versions/3.7/lib/python3.7/stat.py'>, '_stat': <module '_stat' (built-in)>, 'posixpath': <module 'posixpath' from '/Library/Frameworks/Python.framework/Versions/3.7/lib/python3.7/posixpath.py'>, 'genericpath': <module 'genericpath' from '/Library/Frameworks/Python.framework/Versions/3.7/lib/python3.7/genericpath.py'>, 'os.path': <module 'posixpath' from '/Library/Frameworks/Python.framework/Versions/3.7/lib/python3.7/posixpath.py'>, '_collections_abc': <module '_collections_abc' from '/Library/Frameworks/Python.framework/Versions/3.7/lib/python3.7/_collections_abc.py'>, '_sitebuiltins': <module '_sitebuiltins' from '/Library/Frameworks/Python.framework/Versions/3.7/lib/python3.7/_sitebuiltins.py'>, 'types': <module 'types' from '/Library/Frameworks/Python.framework/Versions/3.7/lib/python3.7/types.py'>, 'importlib': <module 'importlib' from '/Library/Frameworks/Python.framework/Versions/3.7/lib/python3.7/importlib/__init__.py'>, 'importlib._bootstrap': <module 'importlib._bootstrap' (frozen)>, 'importlib._bootstrap_external': <module 'importlib._bootstrap_external' (frozen)>, 'warnings': <module 'warnings' from '/Library/Frameworks/Python.framework/Versions/3.7/lib/python3.7/warnings.py'>, 'importlib.util': <module 'importlib.util' from '/Library/Frameworks/Python.framework/Versions/3.7/lib/python3.7/importlib/util.py'>, 'importlib.abc': <module 'importlib.abc' from '/Library/Frameworks/Python.framework/Versions/3.7/lib/python3.7/importlib/abc.py'>, 'importlib.machinery': <module 'importlib.machinery' from '/Library/Frameworks/Python.framework/Versions/3.7/lib/python3.7/importlib/machinery.py'>, 'contextlib': <module 'contextlib' from '/Library/Frameworks/Python.framework/Versions/3.7/lib/python3.7/contextlib.py'>, 'collections': <module 'collections' from '/Library/Frameworks/Python.framework/Versions/3.7/lib/python3.7/collections/__init__.py'>, 'operator': <module 'operator' from '/Library/Frameworks/Python.framework/Versions/3.7/lib/python3.7/operator.py'>, '_operator': <module '_operator' (built-in)>, 'keyword': <module 'keyword' from '/Library/Frameworks/Python.framework/Versions/3.7/lib/python3.7/keyword.py'>, 'heapq': <module 'heapq' from '/Library/Frameworks/Python.framework/Versions/3.7/lib/python3.7/heapq.py'>, '_heapq': <module '_heapq' from '/Library/Frameworks/Python.framework/Versions/3.7/lib/python3.7/lib-dynload/_heapq.cpython-37m-darwin.so'>, 'itertools': <module 'itertools' (built-in)>, 'reprlib': <module 'reprlib' from '/Library/Frameworks/Python.framework/Versions/3.7/lib/python3.7/reprlib.py'>, '_collections': <module '_collections' (built-in)>, 'functools': <module 'functools' from '/Library/Frameworks/Python.framework/Versions/3.7/lib/python3.7/functools.py'>, '_functools': <module '_functools' (built-in)>, 'mpl_toolkits': <module 'mpl_toolkits' (namespace)>, 'runpy': <module 'runpy' from '/Library/Frameworks/Python.framework/Versions/3.7/lib/python3.7/runpy.py'>, 'pkgutil': <module 'pkgutil' from '/Library/Frameworks/Python.framework/Versions/3.7/lib/python3.7/pkgutil.py'>, 'weakref': <module 'weakref' from '/Library/Frameworks/Python.framework/Versions/3.7/lib/python3.7/weakref.py'>, '_weakrefset': <module '_weakrefset' from '/Library/Frameworks/Python.framework/Versions/3.7/lib/python3.7/_weakrefset.py'>, 'ipykernel': <module 'ipykernel' from '/Library/Frameworks/Python.framework/Versions/3.7/lib/python3.7/site-packages/ipykernel/__init__.py'>, 'ipykernel._version': <module 'ipykernel._version' from '/Library/Frameworks/Python.framework/Versions/3.7/lib/python3.7/site-packages/ipykernel/_version.py'>, 'ipykernel.connect': <module 'ipykernel.connect' from '/Library/Frameworks/Python.framework/Versions/3.7/lib/python3.7/site-packages/ipykernel/connect.py'>, '__future__': <module '__future__' from '/Library/Frameworks/Python.framework/Versions/3.7/lib/python3.7/__future__.py'>, 'json': <module 'json' from '/Library/Frameworks/Python.framework/Versions/3.7/lib/python3.7/json/__init__.py'>, 'json.decoder': <module 'json.decoder' from '/Library/Frameworks/Python.framework/Versions/3.7/lib/python3.7/json/decoder.py'>, 're': <module 're' from '/Library/Frameworks/Python.framework/Versions/3.7/lib/python3.7/re.py'>, 'enum': <module 'enum' from '/Library/Frameworks/Python.framework/Versions/3.7/lib/python3.7/enum.py'>, 'sre_compile': <module 'sre_compile' from '/Library/Frameworks/Python.framework/Versions/3.7/lib/python3.7/sre_compile.py'>, '_sre': <module '_sre' (built-in)>, 'sre_parse': <module 'sre_parse' from '/Library/Frameworks/Python.framework/Versions/3.7/lib/python3.7/sre_parse.py'>, 'sre_constants': <module 'sre_constants' from '/Library/Frameworks/Python.framework/Versions/3.7/lib/python3.7/sre_constants.py'>, 'copyreg': <module 'copyreg' from '/Library/Frameworks/Python.framework/Versions/3.7/lib/python3.7/copyreg.py'>, 'json.scanner': <module 'json.scanner' from '/Library/Frameworks/Python.framework/Versions/3.7/lib/python3.7/json/scanner.py'>, '_json': <module '_json' from '/Library/Frameworks/Python.framework/Versions/3.7/lib/python3.7/lib-dynload/_json.cpython-37m-darwin.so'>, 'json.encoder': <module 'json.encoder' from '/Library/Frameworks/Python.framework/Versions/3.7/lib/python3.7/json/encoder.py'>, 'subprocess': <module 'subprocess' from '/Library/Frameworks/Python.framework/Versions/3.7/lib/python3.7/subprocess.py'>, 'time': <module 'time' (built-in)>, 'signal': <module 'signal' from '/Library/Frameworks/Python.framework/Versions/3.7/lib/python3.7/signal.py'>, 'errno': <module 'errno' (built-in)>, '_posixsubprocess': <module '_posixsubprocess' from '/Library/Frameworks/Python.framework/Versions/3.7/lib/python3.7/lib-dynload/_posixsubprocess.cpython-37m-darwin.so'>, 'select': <module 'select' from '/Library/Frameworks/Python.framework/Versions/3.7/lib/python3.7/lib-dynload/select.cpython-37m-darwin.so'>, 'selectors': <module 'selectors' from '/Library/Frameworks/Python.framework/Versions/3.7/lib/python3.7/selectors.py'>, 'collections.abc': <module 'collections.abc' from '/Library/Frameworks/Python.framework/Versions/3.7/lib/python3.7/collections/abc.py'>, 'math': <module 'math' from '/Library/Frameworks/Python.framework/Versions/3.7/lib/python3.7/lib-dynload/math.cpython-37m-darwin.so'>, 'threading': <module 'threading' from '/Library/Frameworks/Python.framework/Versions/3.7/lib/python3.7/threading.py'>, 'traceback': <module 'traceback' from '/Library/Frameworks/Python.framework/Versions/3.7/lib/python3.7/traceback.py'>, 'linecache': <module 'linecache' from '/Library/Frameworks/Python.framework/Versions/3.7/lib/python3.7/linecache.py'>, 'tokenize': <module 'tokenize' from '/Library/Frameworks/Python.framework/Versions/3.7/lib/python3.7/tokenize.py'>, 'token': <module 'token' from '/Library/Frameworks/Python.framework/Versions/3.7/lib/python3.7/token.py'>, 'IPython': <module 'IPython' from '/Library/Frameworks/Python.framework/Versions/3.7/lib/python3.7/site-packages/IPython/__init__.py'>, 'IPython.core': <module 'IPython.core' from '/Library/Frameworks/Python.framework/Versions/3.7/lib/python3.7/site-packages/IPython/core/__init__.py'>, 'IPython.core.getipython': <module 'IPython.core.getipython' from '/Library/Frameworks/Python.framework/Versions/3.7/lib/python3.7/site-packages/IPython/core/getipython.py'>, 'IPython.core.release': <module 'IPython.core.release' from '/Library/Frameworks/Python.framework/Versions/3.7/lib/python3.7/site-packages/IPython/core/release.py'>, 'IPython.core.application': <module 'IPython.core.application' from '/Library/Frameworks/Python.framework/Versions/3.7/lib/python3.7/site-packages/IPython/core/application.py'>, 'atexit': <module 'atexit' (built-in)>, 'copy': <module 'copy' from '/Library/Frameworks/Python.framework/Versions/3.7/lib/python3.7/copy.py'>, 'glob': <module 'glob' from '/Library/Frameworks/Python.framework/Versions/3.7/lib/python3.7/glob.py'>, 'fnmatch': <module 'fnmatch' from '/Library/Frameworks/Python.framework/Versions/3.7/lib/python3.7/fnmatch.py'>, 'logging': <module 'logging' from '/Library/Frameworks/Python.framework/Versions/3.7/lib/python3.7/logging/__init__.py'>, 'string': <module 'string' from '/Library/Frameworks/Python.framework/Versions/3.7/lib/python3.7/string.py'>, '_string': <module '_string' (built-in)>, 'shutil': <module 'shutil' from '/Library/Frameworks/Python.framework/Versions/3.7/lib/python3.7/shutil.py'>, 'zlib': <module 'zlib' from '/Library/Frameworks/Python.framework/Versions/3.7/lib/python3.7/lib-dynload/zlib.cpython-37m-darwin.so'>, 'bz2': <module 'bz2' from '/Library/Frameworks/Python.framework/Versions/3.7/lib/python3.7/bz2.py'>, '_compression': <module '_compression' from '/Library/Frameworks/Python.framework/Versions/3.7/lib/python3.7/_compression.py'>, '_bz2': <module '_bz2' from '/Library/Frameworks/Python.framework/Versions/3.7/lib/python3.7/lib-dynload/_bz2.cpython-37m-darwin.so'>, 'lzma': <module 'lzma' from '/Library/Frameworks/Python.framework/Versions/3.7/lib/python3.7/lzma.py'>, '_lzma': <module '_lzma' from '/Library/Frameworks/Python.framework/Versions/3.7/lib/python3.7/lib-dynload/_lzma.cpython-37m-darwin.so'>, 'pwd': <module 'pwd' (built-in)>, 'grp': <module 'grp' from '/Library/Frameworks/Python.framework/Versions/3.7/lib/python3.7/lib-dynload/grp.cpython-37m-darwin.so'>, 'traitlets': <module 'traitlets' from '/Library/Frameworks/Python.framework/Versions/3.7/lib/python3.7/site-packages/traitlets/__init__.py'>, 'traitlets.traitlets': <module 'traitlets.traitlets' from '/Library/Frameworks/Python.framework/Versions/3.7/lib/python3.7/site-packages/traitlets/traitlets.py'>, 'inspect': <module 'inspect' from '/Library/Frameworks/Python.framework/Versions/3.7/lib/python3.7/inspect.py'>, 'dis': <module 'dis' from '/Library/Frameworks/Python.framework/Versions/3.7/lib/python3.7/dis.py'>, 'opcode': <module 'opcode' from '/Library/Frameworks/Python.framework/Versions/3.7/lib/python3.7/opcode.py'>, '_opcode': <module '_opcode' from '/Library/Frameworks/Python.framework/Versions/3.7/lib/python3.7/lib-dynload/_opcode.cpython-37m-darwin.so'>, 'six': <module 'six' from '/Library/Frameworks/Python.framework/Versions/3.7/lib/python3.7/site-packages/six.py'>, 'struct': <module 'struct' from '/Library/Frameworks/Python.framework/Versions/3.7/lib/python3.7/struct.py'>, '_struct': <module '_struct' from '/Library/Frameworks/Python.framework/Versions/3.7/lib/python3.7/lib-dynload/_struct.cpython-37m-darwin.so'>, 'traitlets.utils': <module 'traitlets.utils' from '/Library/Frameworks/Python.framework/Versions/3.7/lib/python3.7/site-packages/traitlets/utils/__init__.py'>, 'traitlets.utils.getargspec': <module 'traitlets.utils.getargspec' from '/Library/Frameworks/Python.framework/Versions/3.7/lib/python3.7/site-packages/traitlets/utils/getargspec.py'>, 'traitlets.utils.importstring': <module 'traitlets.utils.importstring' from '/Library/Frameworks/Python.framework/Versions/3.7/lib/python3.7/site-packages/traitlets/utils/importstring.py'>, 'ipython_genutils': <module 'ipython_genutils' from '/Library/Frameworks/Python.framework/Versions/3.7/lib/python3.7/site-packages/ipython_genutils/__init__.py'>, 'ipython_genutils._version': <module 'ipython_genutils._version' from '/Library/Frameworks/Python.framework/Versions/3.7/lib/python3.7/site-packages/ipython_genutils/_version.py'>, 'ipython_genutils.py3compat': <module 'ipython_genutils.py3compat' from '/Library/Frameworks/Python.framework/Versions/3.7/lib/python3.7/site-packages/ipython_genutils/py3compat.py'>, 'ipython_genutils.encoding': <module 'ipython_genutils.encoding' from '/Library/Frameworks/Python.framework/Versions/3.7/lib/python3.7/site-packages/ipython_genutils/encoding.py'>, 'locale': <module 'locale' from '/Library/Frameworks/Python.framework/Versions/3.7/lib/python3.7/locale.py'>, 'platform': <module 'platform' from '/Library/Frameworks/Python.framework/Versions/3.7/lib/python3.7/platform.py'>, 'traitlets.utils.sentinel': <module 'traitlets.utils.sentinel' from '/Library/Frameworks/Python.framework/Versions/3.7/lib/python3.7/site-packages/traitlets/utils/sentinel.py'>, 'traitlets.utils.bunch': <module 'traitlets.utils.bunch' from '/Library/Frameworks/Python.framework/Versions/3.7/lib/python3.7/site-packages/traitlets/utils/bunch.py'>, 'traitlets._version': <module 'traitlets._version' from '/Library/Frameworks/Python.framework/Versions/3.7/lib/python3.7/site-packages/traitlets/_version.py'>, 'traitlets.config': <module 'traitlets.config' from '/Library/Frameworks/Python.framework/Versions/3.7/lib/python3.7/site-packages/traitlets/config/__init__.py'>, 'traitlets.config.application': <module 'traitlets.config.application' from '/Library/Frameworks/Python.framework/Versions/3.7/lib/python3.7/site-packages/traitlets/config/application.py'>, 'decorator': <module 'decorator' from '/Library/Frameworks/Python.framework/Versions/3.7/lib/python3.7/site-packages/decorator.py'>, 'traitlets.config.configurable': <module 'traitlets.config.configurable' from '/Library/Frameworks/Python.framework/Versions/3.7/lib/python3.7/site-packages/traitlets/config/configurable.py'>, 'traitlets.config.loader': <module 'traitlets.config.loader' from '/Library/Frameworks/Python.framework/Versions/3.7/lib/python3.7/site-packages/traitlets/config/loader.py'>, 'argparse': <module 'argparse' from '/Library/Frameworks/Python.framework/Versions/3.7/lib/python3.7/argparse.py'>, 'gettext': <module 'gettext' from '/Library/Frameworks/Python.framework/Versions/3.7/lib/python3.7/gettext.py'>, 'ast': <module 'ast' from '/Library/Frameworks/Python.framework/Versions/3.7/lib/python3.7/ast.py'>, '_ast': <module '_ast' (built-in)>, 'ipython_genutils.path': <module 'ipython_genutils.path' from '/Library/Frameworks/Python.framework/Versions/3.7/lib/python3.7/site-packages/ipython_genutils/path.py'>, 'random': <module 'random' from '/Library/Frameworks/Python.framework/Versions/3.7/lib/python3.7/random.py'>, 'hashlib': <module 'hashlib' from '/Library/Frameworks/Python.framework/Versions/3.7/lib/python3.7/hashlib.py'>, '_hashlib': <module '_hashlib' from '/Library/Frameworks/Python.framework/Versions/3.7/lib/python3.7/lib-dynload/_hashlib.cpython-37m-darwin.so'>, '_blake2': <module '_blake2' from '/Library/Frameworks/Python.framework/Versions/3.7/lib/python3.7/lib-dynload/_blake2.cpython-37m-darwin.so'>, '_sha3': <module '_sha3' from '/Library/Frameworks/Python.framework/Versions/3.7/lib/python3.7/lib-dynload/_sha3.cpython-37m-darwin.so'>, 'bisect': <module 'bisect' from '/Library/Frameworks/Python.framework/Versions/3.7/lib/python3.7/bisect.py'>, '_bisect': <module '_bisect' from '/Library/Frameworks/Python.framework/Versions/3.7/lib/python3.7/lib-dynload/_bisect.cpython-37m-darwin.so'>, '_random': <module '_random' from '/Library/Frameworks/Python.framework/Versions/3.7/lib/python3.7/lib-dynload/_random.cpython-37m-darwin.so'>, 'ipython_genutils.text': <module 'ipython_genutils.text' from '/Library/Frameworks/Python.framework/Versions/3.7/lib/python3.7/site-packages/ipython_genutils/text.py'>, 'textwrap': <module 'textwrap' from '/Library/Frameworks/Python.framework/Versions/3.7/lib/python3.7/textwrap.py'>, 'ipython_genutils.importstring': <module 'ipython_genutils.importstring' from '/Library/Frameworks/Python.framework/Versions/3.7/lib/python3.7/site-packages/ipython_genutils/importstring.py'>, 'IPython.core.crashhandler': <module 'IPython.core.crashhandler' from '/Library/Frameworks/Python.framework/Versions/3.7/lib/python3.7/site-packages/IPython/core/crashhandler.py'>, 'pprint': <module 'pprint' from '/Library/Frameworks/Python.framework/Versions/3.7/lib/python3.7/pprint.py'>, 'IPython.core.ultratb': <module 'IPython.core.ultratb' from '/Library/Frameworks/Python.framework/Versions/3.7/lib/python3.7/site-packages/IPython/core/ultratb.py'>, 'pydoc': <module 'pydoc' from '/Library/Frameworks/Python.framework/Versions/3.7/lib/python3.7/pydoc.py'>, 'urllib': <module 'urllib' from '/Library/Frameworks/Python.framework/Versions/3.7/lib/python3.7/urllib/__init__.py'>, 'urllib.parse': <module 'urllib.parse' from '/Library/Frameworks/Python.framework/Versions/3.7/lib/python3.7/urllib/parse.py'>, 'IPython.core.debugger': <module 'IPython.core.debugger' from '/Library/Frameworks/Python.framework/Versions/3.7/lib/python3.7/site-packages/IPython/core/debugger.py'>, 'bdb': <module 'bdb' from '/Library/Frameworks/Python.framework/Versions/3.7/lib/python3.7/bdb.py'>, 'IPython.utils': <module 'IPython.utils' from '/Library/Frameworks/Python.framework/Versions/3.7/lib/python3.7/site-packages/IPython/utils/__init__.py'>, 'IPython.utils.PyColorize': <module 'IPython.utils.PyColorize' from '/Library/Frameworks/Python.framework/Versions/3.7/lib/python3.7/site-packages/IPython/utils/PyColorize.py'>, 'IPython.utils.coloransi': <module 'IPython.utils.coloransi' from '/Library/Frameworks/Python.framework/Versions/3.7/lib/python3.7/site-packages/IPython/utils/coloransi.py'>, 'IPython.utils.ipstruct': <module 'IPython.utils.ipstruct' from '/Library/Frameworks/Python.framework/Versions/3.7/lib/python3.7/site-packages/IPython/utils/ipstruct.py'>, 'IPython.utils.colorable': <module 'IPython.utils.colorable' from '/Library/Frameworks/Python.framework/Versions/3.7/lib/python3.7/site-packages/IPython/utils/colorable.py'>, 'pygments': <module 'pygments' from '/Library/Frameworks/Python.framework/Versions/3.7/lib/python3.7/site-packages/pygments/__init__.py'>, 'pygments.util': <module 'pygments.util' from '/Library/Frameworks/Python.framework/Versions/3.7/lib/python3.7/site-packages/pygments/util.py'>, 'IPython.utils.py3compat': <module 'IPython.utils.py3compat' from '/Library/Frameworks/Python.framework/Versions/3.7/lib/python3.7/site-packages/IPython/utils/py3compat.py'>, 'IPython.utils.encoding': <module 'IPython.utils.encoding' from '/Library/Frameworks/Python.framework/Versions/3.7/lib/python3.7/site-packages/IPython/utils/encoding.py'>, 'IPython.core.excolors': <module 'IPython.core.excolors' from '/Library/Frameworks/Python.framework/Versions/3.7/lib/python3.7/site-packages/IPython/core/excolors.py'>, 'IPython.testing': <module 'IPython.testing' from '/Library/Frameworks/Python.framework/Versions/3.7/lib/python3.7/site-packages/IPython/testing/__init__.py'>, 'IPython.testing.skipdoctest': <module 'IPython.testing.skipdoctest' from '/Library/Frameworks/Python.framework/Versions/3.7/lib/python3.7/site-packages/IPython/testing/skipdoctest.py'>, 'pdb': <module 'pdb' from '/Library/Frameworks/Python.framework/Versions/3.7/lib/python3.7/pdb.py'>, 'cmd': <module 'cmd' from '/Library/Frameworks/Python.framework/Versions/3.7/lib/python3.7/cmd.py'>, 'code': <module 'code' from '/Library/Frameworks/Python.framework/Versions/3.7/lib/python3.7/code.py'>, 'codeop': <module 'codeop' from '/Library/Frameworks/Python.framework/Versions/3.7/lib/python3.7/codeop.py'>, 'IPython.core.display_trap': <module 'IPython.core.display_trap' from '/Library/Frameworks/Python.framework/Versions/3.7/lib/python3.7/site-packages/IPython/core/display_trap.py'>, 'IPython.utils.path': <module 'IPython.utils.path' from '/Library/Frameworks/Python.framework/Versions/3.7/lib/python3.7/site-packages/IPython/utils/path.py'>, 'IPython.utils.process': <module 'IPython.utils.process' from '/Library/Frameworks/Python.framework/Versions/3.7/lib/python3.7/site-packages/IPython/utils/process.py'>, 'IPython.utils._process_posix': <module 'IPython.utils._process_posix' from '/Library/Frameworks/Python.framework/Versions/3.7/lib/python3.7/site-packages/IPython/utils/_process_posix.py'>, 'pexpect': <module 'pexpect' from '/Library/Frameworks/Python.framework/Versions/3.7/lib/python3.7/site-packages/pexpect/__init__.py'>, 'pexpect.exceptions': <module 'pexpect.exceptions' from '/Library/Frameworks/Python.framework/Versions/3.7/lib/python3.7/site-packages/pexpect/exceptions.py'>, 'pexpect.utils': <module 'pexpect.utils' from '/Library/Frameworks/Python.framework/Versions/3.7/lib/python3.7/site-packages/pexpect/utils.py'>, 'pexpect.expect': <module 'pexpect.expect' from '/Library/Frameworks/Python.framework/Versions/3.7/lib/python3.7/site-packages/pexpect/expect.py'>, 'pexpect.pty_spawn': <module 'pexpect.pty_spawn' from '/Library/Frameworks/Python.framework/Versions/3.7/lib/python3.7/site-packages/pexpect/pty_spawn.py'>, 'pty': <module 'pty' from '/Library/Frameworks/Python.framework/Versions/3.7/lib/python3.7/pty.py'>, 'tty': <module 'tty' from '/Library/Frameworks/Python.framework/Versions/3.7/lib/python3.7/tty.py'>, 'termios': <module 'termios' from '/Library/Frameworks/Python.framework/Versions/3.7/lib/python3.7/lib-dynload/termios.cpython-37m-darwin.so'>, 'ptyprocess': <module 'ptyprocess' from '/Library/Frameworks/Python.framework/Versions/3.7/lib/python3.7/site-packages/ptyprocess/__init__.py'>, 'ptyprocess.ptyprocess': <module 'ptyprocess.ptyprocess' from '/Library/Frameworks/Python.framework/Versions/3.7/lib/python3.7/site-packages/ptyprocess/ptyprocess.py'>, 'fcntl': <module 'fcntl' from '/Library/Frameworks/Python.framework/Versions/3.7/lib/python3.7/lib-dynload/fcntl.cpython-37m-darwin.so'>, 'resource': <module 'resource' from '/Library/Frameworks/Python.framework/Versions/3.7/lib/python3.7/lib-dynload/resource.cpython-37m-darwin.so'>, 'ptyprocess.util': <module 'ptyprocess.util' from '/Library/Frameworks/Python.framework/Versions/3.7/lib/python3.7/site-packages/ptyprocess/util.py'>, 'pexpect.spawnbase': <module 'pexpect.spawnbase' from '/Library/Frameworks/Python.framework/Versions/3.7/lib/python3.7/site-packages/pexpect/spawnbase.py'>, 'pexpect.run': <module 'pexpect.run' from '/Library/Frameworks/Python.framework/Versions/3.7/lib/python3.7/site-packages/pexpect/run.py'>, 'IPython.utils._process_common': <module 'IPython.utils._process_common' from '/Library/Frameworks/Python.framework/Versions/3.7/lib/python3.7/site-packages/IPython/utils/_process_common.py'>, 'shlex': <module 'shlex' from '/Library/Frameworks/Python.framework/Versions/3.7/lib/python3.7/shlex.py'>, 'IPython.utils.decorators': <module 'IPython.utils.decorators' from '/Library/Frameworks/Python.framework/Versions/3.7/lib/python3.7/site-packages/IPython/utils/decorators.py'>, 'IPython.utils.data': <module 'IPython.utils.data' from '/Library/Frameworks/Python.framework/Versions/3.7/lib/python3.7/site-packages/IPython/utils/data.py'>, 'IPython.utils.terminal': <module 'IPython.utils.terminal' from '/Library/Frameworks/Python.framework/Versions/3.7/lib/python3.7/site-packages/IPython/utils/terminal.py'>, 'IPython.utils.sysinfo': <module 'IPython.utils.sysinfo' from '/Library/Frameworks/Python.framework/Versions/3.7/lib/python3.7/site-packages/IPython/utils/sysinfo.py'>, 'IPython.utils._sysinfo': <module 'IPython.utils._sysinfo' from '/Library/Frameworks/Python.framework/Versions/3.7/lib/python3.7/site-packages/IPython/utils/_sysinfo.py'>, 'IPython.core.profiledir': <module 'IPython.core.profiledir' from '/Library/Frameworks/Python.framework/Versions/3.7/lib/python3.7/site-packages/IPython/core/profiledir.py'>, 'IPython.paths': <module 'IPython.paths' from '/Library/Frameworks/Python.framework/Versions/3.7/lib/python3.7/site-packages/IPython/paths.py'>, 'tempfile': <module 'tempfile' from '/Library/Frameworks/Python.framework/Versions/3.7/lib/python3.7/tempfile.py'>, 'IPython.utils.importstring': <module 'IPython.utils.importstring' from '/Library/Frameworks/Python.framework/Versions/3.7/lib/python3.7/site-packages/IPython/utils/importstring.py'>, 'IPython.terminal': <module 'IPython.terminal' from '/Library/Frameworks/Python.framework/Versions/3.7/lib/python3.7/site-packages/IPython/terminal/__init__.py'>, 'IPython.terminal.embed': <module 'IPython.terminal.embed' from '/Library/Frameworks/Python.framework/Versions/3.7/lib/python3.7/site-packages/IPython/terminal/embed.py'>, 'IPython.core.compilerop': <module 'IPython.core.compilerop' from '/Library/Frameworks/Python.framework/Versions/3.7/lib/python3.7/site-packages/IPython/core/compilerop.py'>, 'IPython.core.magic_arguments': <module 'IPython.core.magic_arguments' from '/Library/Frameworks/Python.framework/Versions/3.7/lib/python3.7/site-packages/IPython/core/magic_arguments.py'>, 'IPython.core.error': <module 'IPython.core.error' from '/Library/Frameworks/Python.framework/Versions/3.7/lib/python3.7/site-packages/IPython/core/error.py'>, 'IPython.utils.text': <module 'IPython.utils.text' from '/Library/Frameworks/Python.framework/Versions/3.7/lib/python3.7/site-packages/IPython/utils/text.py'>, 'pathlib': <module 'pathlib' from '/Library/Frameworks/Python.framework/Versions/3.7/lib/python3.7/pathlib.py'>, 'ntpath': <module 'ntpath' from '/Library/Frameworks/Python.framework/Versions/3.7/lib/python3.7/ntpath.py'>, 'IPython.core.magic': <module 'IPython.core.magic' from '/Library/Frameworks/Python.framework/Versions/3.7/lib/python3.7/site-packages/IPython/core/magic.py'>, 'getopt': <module 'getopt' from '/Library/Frameworks/Python.framework/Versions/3.7/lib/python3.7/getopt.py'>, 'IPython.core.oinspect': <module 'IPython.core.oinspect' from '/Library/Frameworks/Python.framework/Versions/3.7/lib/python3.7/site-packages/IPython/core/oinspect.py'>, 'IPython.core.page': <module 'IPython.core.page' from '/Library/Frameworks/Python.framework/Versions/3.7/lib/python3.7/site-packages/IPython/core/page.py'>, 'IPython.core.display': <module 'IPython.core.display' from '/Library/Frameworks/Python.framework/Versions/3.7/lib/python3.7/site-packages/IPython/core/display.py'>, 'binascii': <module 'binascii' from '/Library/Frameworks/Python.framework/Versions/3.7/lib/python3.7/lib-dynload/binascii.cpython-37m-darwin.so'>, 'mimetypes': <module 'mimetypes' from '/Library/Frameworks/Python.framework/Versions/3.7/lib/python3.7/mimetypes.py'>, 'IPython.lib': <module 'IPython.lib' from '/Library/Frameworks/Python.framework/Versions/3.7/lib/python3.7/site-packages/IPython/lib/__init__.py'>, 'IPython.lib.security': <module 'IPython.lib.security' from '/Library/Frameworks/Python.framework/Versions/3.7/lib/python3.7/site-packages/IPython/lib/security.py'>, 'getpass': <module 'getpass' from '/Library/Frameworks/Python.framework/Versions/3.7/lib/python3.7/getpass.py'>, 'IPython.lib.pretty': <module 'IPython.lib.pretty' from '/Library/Frameworks/Python.framework/Versions/3.7/lib/python3.7/site-packages/IPython/lib/pretty.py'>, 'datetime': <module 'datetime' from '/Library/Frameworks/Python.framework/Versions/3.7/lib/python3.7/datetime.py'>, '_datetime': <module '_datetime' from '/Library/Frameworks/Python.framework/Versions/3.7/lib/python3.7/lib-dynload/_datetime.cpython-37m-darwin.so'>, 'IPython.utils.openpy': <module 'IPython.utils.openpy' from '/Library/Frameworks/Python.framework/Versions/3.7/lib/python3.7/site-packages/IPython/utils/openpy.py'>, 'IPython.utils.dir2': <module 'IPython.utils.dir2' from '/Library/Frameworks/Python.framework/Versions/3.7/lib/python3.7/site-packages/IPython/utils/dir2.py'>, 'IPython.utils.wildcard': <module 'IPython.utils.wildcard' from '/Library/Frameworks/Python.framework/Versions/3.7/lib/python3.7/site-packages/IPython/utils/wildcard.py'>, 'pygments.lexers': <module 'pygments.lexers' from '/Library/Frameworks/Python.framework/Versions/3.7/lib/python3.7/site-packages/pygments/lexers/__init__.py'>, 'pygments.lexers._mapping': <module 'pygments.lexers._mapping' from '/Library/Frameworks/Python.framework/Versions/3.7/lib/python3.7/site-packages/pygments/lexers/_mapping.py'>, 'pygments.modeline': <module 'pygments.modeline' from '/Library/Frameworks/Python.framework/Versions/3.7/lib/python3.7/site-packages/pygments/modeline.py'>, 'pygments.plugin': <module 'pygments.plugin' from '/Library/Frameworks/Python.framework/Versions/3.7/lib/python3.7/site-packages/pygments/plugin.py'>, 'pygments.lexers.python': <module 'pygments.lexers.python' from '/Library/Frameworks/Python.framework/Versions/3.7/lib/python3.7/site-packages/pygments/lexers/python.py'>, 'pygments.lexer': <module 'pygments.lexer' from '/Library/Frameworks/Python.framework/Versions/3.7/lib/python3.7/site-packages/pygments/lexer.py'>, 'pygments.filter': <module 'pygments.filter' from '/Library/Frameworks/Python.framework/Versions/3.7/lib/python3.7/site-packages/pygments/filter.py'>, 'pygments.filters': <module 'pygments.filters' from '/Library/Frameworks/Python.framework/Versions/3.7/lib/python3.7/site-packages/pygments/filters/__init__.py'>, 'pygments.token': <module 'pygments.token' from '/Library/Frameworks/Python.framework/Versions/3.7/lib/python3.7/site-packages/pygments/token.py'>, 'pygments.regexopt': <module 'pygments.regexopt' from '/Library/Frameworks/Python.framework/Versions/3.7/lib/python3.7/site-packages/pygments/regexopt.py'>, 'pygments.unistring': <module 'pygments.unistring' from '/Library/Frameworks/Python.framework/Versions/3.7/lib/python3.7/site-packages/pygments/unistring.py'>, 'pygments.formatters': <module 'pygments.formatters' from '/Library/Frameworks/Python.framework/Versions/3.7/lib/python3.7/site-packages/pygments/formatters/__init__.py'>, 'pygments.formatters._mapping': <module 'pygments.formatters._mapping' from '/Library/Frameworks/Python.framework/Versions/3.7/lib/python3.7/site-packages/pygments/formatters/_mapping.py'>, 'pygments.formatters.html': <module 'pygments.formatters.html' from '/Library/Frameworks/Python.framework/Versions/3.7/lib/python3.7/site-packages/pygments/formatters/html.py'>, 'pygments.formatter': <module 'pygments.formatter' from '/Library/Frameworks/Python.framework/Versions/3.7/lib/python3.7/site-packages/pygments/formatter.py'>, 'pygments.styles': <module 'pygments.styles' from '/Library/Frameworks/Python.framework/Versions/3.7/lib/python3.7/site-packages/pygments/styles/__init__.py'>, 'IPython.core.inputtransformer2': <module 'IPython.core.inputtransformer2' from '/Library/Frameworks/Python.framework/Versions/3.7/lib/python3.7/site-packages/IPython/core/inputtransformer2.py'>, 'typing': <module 'typing' from '/Library/Frameworks/Python.framework/Versions/3.7/lib/python3.7/typing.py'>, 'typing.io': <class 'typing.io'>, 'typing.re': <class 'typing.re'>, 'IPython.core.interactiveshell': <module 'IPython.core.interactiveshell' from '/Library/Frameworks/Python.framework/Versions/3.7/lib/python3.7/site-packages/IPython/core/interactiveshell.py'>, 'asyncio': <module 'asyncio' from '/Library/Frameworks/Python.framework/Versions/3.7/lib/python3.7/asyncio/__init__.py'>, 'asyncio.base_events': <module 'asyncio.base_events' from '/Library/Frameworks/Python.framework/Versions/3.7/lib/python3.7/asyncio/base_events.py'>, 'concurrent': <module 'concurrent' from '/Library/Frameworks/Python.framework/Versions/3.7/lib/python3.7/concurrent/__init__.py'>, 'concurrent.futures': <module 'concurrent.futures' from '/Library/Frameworks/Python.framework/Versions/3.7/lib/python3.7/concurrent/futures/__init__.py'>, 'concurrent.futures._base': <module 'concurrent.futures._base' from '/Library/Frameworks/Python.framework/Versions/3.7/lib/python3.7/concurrent/futures/_base.py'>, 'socket': <module 'socket' from '/Library/Frameworks/Python.framework/Versions/3.7/lib/python3.7/socket.py'>, '_socket': <module '_socket' from '/Library/Frameworks/Python.framework/Versions/3.7/lib/python3.7/lib-dynload/_socket.cpython-37m-darwin.so'>, 'ssl': <module 'ssl' from '/Library/Frameworks/Python.framework/Versions/3.7/lib/python3.7/ssl.py'>, '_ssl': <module '_ssl' from '/Library/Frameworks/Python.framework/Versions/3.7/lib/python3.7/lib-dynload/_ssl.cpython-37m-darwin.so'>, 'base64': <module 'base64' from '/Library/Frameworks/Python.framework/Versions/3.7/lib/python3.7/base64.py'>, 'asyncio.constants': <module 'asyncio.constants' from '/Library/Frameworks/Python.framework/Versions/3.7/lib/python3.7/asyncio/constants.py'>, 'asyncio.coroutines': <module 'asyncio.coroutines' from '/Library/Frameworks/Python.framework/Versions/3.7/lib/python3.7/asyncio/coroutines.py'>, 'asyncio.base_futures': <module 'asyncio.base_futures' from '/Library/Frameworks/Python.framework/Versions/3.7/lib/python3.7/asyncio/base_futures.py'>, 'asyncio.format_helpers': <module 'asyncio.format_helpers' from '/Library/Frameworks/Python.framework/Versions/3.7/lib/python3.7/asyncio/format_helpers.py'>, 'asyncio.log': <module 'asyncio.log' from '/Library/Frameworks/Python.framework/Versions/3.7/lib/python3.7/asyncio/log.py'>, 'asyncio.events': <module 'asyncio.events' from '/Library/Frameworks/Python.framework/Versions/3.7/lib/python3.7/asyncio/events.py'>, 'contextvars': <module 'contextvars' from '/Library/Frameworks/Python.framework/Versions/3.7/lib/python3.7/contextvars.py'>, '_contextvars': <module '_contextvars' from '/Library/Frameworks/Python.framework/Versions/3.7/lib/python3.7/lib-dynload/_contextvars.cpython-37m-darwin.so'>, 'asyncio.base_tasks': <module 'asyncio.base_tasks' from '/Library/Frameworks/Python.framework/Versions/3.7/lib/python3.7/asyncio/base_tasks.py'>, '_asyncio': <module '_asyncio' from '/Library/Frameworks/Python.framework/Versions/3.7/lib/python3.7/lib-dynload/_asyncio.cpython-37m-darwin.so'>, 'asyncio.futures': <module 'asyncio.futures' from '/Library/Frameworks/Python.framework/Versions/3.7/lib/python3.7/asyncio/futures.py'>, 'asyncio.protocols': <module 'asyncio.protocols' from '/Library/Frameworks/Python.framework/Versions/3.7/lib/python3.7/asyncio/protocols.py'>, 'asyncio.sslproto': <module 'asyncio.sslproto' from '/Library/Frameworks/Python.framework/Versions/3.7/lib/python3.7/asyncio/sslproto.py'>, 'asyncio.transports': <module 'asyncio.transports' from '/Library/Frameworks/Python.framework/Versions/3.7/lib/python3.7/asyncio/transports.py'>, 'asyncio.tasks': <module 'asyncio.tasks' from '/Library/Frameworks/Python.framework/Versions/3.7/lib/python3.7/asyncio/tasks.py'>, 'asyncio.locks': <module 'asyncio.locks' from '/Library/Frameworks/Python.framework/Versions/3.7/lib/python3.7/asyncio/locks.py'>, 'asyncio.runners': <module 'asyncio.runners' from '/Library/Frameworks/Python.framework/Versions/3.7/lib/python3.7/asyncio/runners.py'>, 'asyncio.queues': <module 'asyncio.queues' from '/Library/Frameworks/Python.framework/Versions/3.7/lib/python3.7/asyncio/queues.py'>, 'asyncio.streams': <module 'asyncio.streams' from '/Library/Frameworks/Python.framework/Versions/3.7/lib/python3.7/asyncio/streams.py'>, 'asyncio.subprocess': <module 'asyncio.subprocess' from '/Library/Frameworks/Python.framework/Versions/3.7/lib/python3.7/asyncio/subprocess.py'>, 'asyncio.unix_events': <module 'asyncio.unix_events' from '/Library/Frameworks/Python.framework/Versions/3.7/lib/python3.7/asyncio/unix_events.py'>, 'asyncio.base_subprocess': <module 'asyncio.base_subprocess' from '/Library/Frameworks/Python.framework/Versions/3.7/lib/python3.7/asyncio/base_subprocess.py'>, 'asyncio.selector_events': <module 'asyncio.selector_events' from '/Library/Frameworks/Python.framework/Versions/3.7/lib/python3.7/asyncio/selector_events.py'>, 'pickleshare': <module 'pickleshare' from '/Library/Frameworks/Python.framework/Versions/3.7/lib/python3.7/site-packages/pickleshare.py'>, 'pickle': <module 'pickle' from '/Library/Frameworks/Python.framework/Versions/3.7/lib/python3.7/pickle.py'>, '_compat_pickle': <module '_compat_pickle' from '/Library/Frameworks/Python.framework/Versions/3.7/lib/python3.7/_compat_pickle.py'>, '_pickle': <module '_pickle' from '/Library/Frameworks/Python.framework/Versions/3.7/lib/python3.7/lib-dynload/_pickle.cpython-37m-darwin.so'>, 'IPython.core.prefilter': <module 'IPython.core.prefilter' from '/Library/Frameworks/Python.framework/Versions/3.7/lib/python3.7/site-packages/IPython/core/prefilter.py'>, 'IPython.core.autocall': <module 'IPython.core.autocall' from '/Library/Frameworks/Python.framework/Versions/3.7/lib/python3.7/site-packages/IPython/core/autocall.py'>, 'IPython.core.macro': <module 'IPython.core.macro' from '/Library/Frameworks/Python.framework/Versions/3.7/lib/python3.7/site-packages/IPython/core/macro.py'>, 'IPython.core.splitinput': <module 'IPython.core.splitinput' from '/Library/Frameworks/Python.framework/Versions/3.7/lib/python3.7/site-packages/IPython/core/splitinput.py'>, 'IPython.core.alias': <module 'IPython.core.alias' from '/Library/Frameworks/Python.framework/Versions/3.7/lib/python3.7/site-packages/IPython/core/alias.py'>, 'IPython.core.builtin_trap': <module 'IPython.core.builtin_trap' from '/Library/Frameworks/Python.framework/Versions/3.7/lib/python3.7/site-packages/IPython/core/builtin_trap.py'>, 'IPython.core.events': <module 'IPython.core.events' from '/Library/Frameworks/Python.framework/Versions/3.7/lib/python3.7/site-packages/IPython/core/events.py'>, 'backcall': <module 'backcall' from '/Library/Frameworks/Python.framework/Versions/3.7/lib/python3.7/site-packages/backcall/__init__.py'>, 'backcall.backcall': <module 'backcall.backcall' from '/Library/Frameworks/Python.framework/Versions/3.7/lib/python3.7/site-packages/backcall/backcall.py'>, 'IPython.core.displayhook': <module 'IPython.core.displayhook' from '/Library/Frameworks/Python.framework/Versions/3.7/lib/python3.7/site-packages/IPython/core/displayhook.py'>, 'IPython.core.displaypub': <module 'IPython.core.displaypub' from '/Library/Frameworks/Python.framework/Versions/3.7/lib/python3.7/site-packages/IPython/core/displaypub.py'>, 'IPython.core.extensions': <module 'IPython.core.extensions' from '/Library/Frameworks/Python.framework/Versions/3.7/lib/python3.7/site-packages/IPython/core/extensions.py'>, 'IPython.core.formatters': <module 'IPython.core.formatters' from '/Library/Frameworks/Python.framework/Versions/3.7/lib/python3.7/site-packages/IPython/core/formatters.py'>, 'IPython.utils.sentinel': <module 'IPython.utils.sentinel' from '/Library/Frameworks/Python.framework/Versions/3.7/lib/python3.7/site-packages/IPython/utils/sentinel.py'>, 'IPython.core.history': <module 'IPython.core.history' from '/Library/Frameworks/Python.framework/Versions/3.7/lib/python3.7/site-packages/IPython/core/history.py'>, 'sqlite3': <module 'sqlite3' from '/Library/Frameworks/Python.framework/Versions/3.7/lib/python3.7/sqlite3/__init__.py'>, 'sqlite3.dbapi2': <module 'sqlite3.dbapi2' from '/Library/Frameworks/Python.framework/Versions/3.7/lib/python3.7/sqlite3/dbapi2.py'>, '_sqlite3': <module '_sqlite3' from '/Library/Frameworks/Python.framework/Versions/3.7/lib/python3.7/lib-dynload/_sqlite3.cpython-37m-darwin.so'>, 'IPython.core.logger': <module 'IPython.core.logger' from '/Library/Frameworks/Python.framework/Versions/3.7/lib/python3.7/site-packages/IPython/core/logger.py'>, 'IPython.core.payload': <module 'IPython.core.payload' from '/Library/Frameworks/Python.framework/Versions/3.7/lib/python3.7/site-packages/IPython/core/payload.py'>, 'IPython.core.usage': <module 'IPython.core.usage' from '/Library/Frameworks/Python.framework/Versions/3.7/lib/python3.7/site-packages/IPython/core/usage.py'>, 'IPython.display': <module 'IPython.display' from '/Library/Frameworks/Python.framework/Versions/3.7/lib/python3.7/site-packages/IPython/display.py'>, 'IPython.lib.display': <module 'IPython.lib.display' from '/Library/Frameworks/Python.framework/Versions/3.7/lib/python3.7/site-packages/IPython/lib/display.py'>, 'html': <module 'html' from '/Library/Frameworks/Python.framework/Versions/3.7/lib/python3.7/html/__init__.py'>, 'html.entities': <module 'html.entities' from '/Library/Frameworks/Python.framework/Versions/3.7/lib/python3.7/html/entities.py'>, 'IPython.utils.io': <module 'IPython.utils.io' from '/Library/Frameworks/Python.framework/Versions/3.7/lib/python3.7/site-packages/IPython/utils/io.py'>, 'IPython.utils.capture': <module 'IPython.utils.capture' from '/Library/Frameworks/Python.framework/Versions/3.7/lib/python3.7/site-packages/IPython/utils/capture.py'>, 'IPython.utils.strdispatch': <module 'IPython.utils.strdispatch' from '/Library/Frameworks/Python.framework/Versions/3.7/lib/python3.7/site-packages/IPython/utils/strdispatch.py'>, 'IPython.core.hooks': <module 'IPython.core.hooks' from '/Library/Frameworks/Python.framework/Versions/3.7/lib/python3.7/site-packages/IPython/core/hooks.py'>, 'IPython.utils.syspathcontext': <module 'IPython.utils.syspathcontext' from '/Library/Frameworks/Python.framework/Versions/3.7/lib/python3.7/site-packages/IPython/utils/syspathcontext.py'>, 'IPython.utils.tempdir': <module 'IPython.utils.tempdir' from '/Library/Frameworks/Python.framework/Versions/3.7/lib/python3.7/site-packages/IPython/utils/tempdir.py'>, 'IPython.utils.contexts': <module 'IPython.utils.contexts' from '/Library/Frameworks/Python.framework/Versions/3.7/lib/python3.7/site-packages/IPython/utils/contexts.py'>, 'IPython.core.async_helpers': <module 'IPython.core.async_helpers' from '/Library/Frameworks/Python.framework/Versions/3.7/lib/python3.7/site-packages/IPython/core/async_helpers.py'>, 'IPython.terminal.interactiveshell': <module 'IPython.terminal.interactiveshell' from '/Library/Frameworks/Python.framework/Versions/3.7/lib/python3.7/site-packages/IPython/terminal/interactiveshell.py'>, 'prompt_toolkit': <module 'prompt_toolkit' from '/Library/Frameworks/Python.framework/Versions/3.7/lib/python3.7/site-packages/prompt_toolkit/__init__.py'>, 'prompt_toolkit.application': <module 'prompt_toolkit.application' from '/Library/Frameworks/Python.framework/Versions/3.7/lib/python3.7/site-packages/prompt_toolkit/application/__init__.py'>, 'prompt_toolkit.application.application': <module 'prompt_toolkit.application.application' from '/Library/Frameworks/Python.framework/Versions/3.7/lib/python3.7/site-packages/prompt_toolkit/application/application.py'>, 'prompt_toolkit.buffer': <module 'prompt_toolkit.buffer' from '/Library/Frameworks/Python.framework/Versions/3.7/lib/python3.7/site-packages/prompt_toolkit/buffer.py'>, 'prompt_toolkit.application.current': <module 'prompt_toolkit.application.current' from '/Library/Frameworks/Python.framework/Versions/3.7/lib/python3.7/site-packages/prompt_toolkit/application/current.py'>, 'prompt_toolkit.eventloop': <module 'prompt_toolkit.eventloop' from '/Library/Frameworks/Python.framework/Versions/3.7/lib/python3.7/site-packages/prompt_toolkit/eventloop/__init__.py'>, 'prompt_toolkit.eventloop.base': <module 'prompt_toolkit.eventloop.base' from '/Library/Frameworks/Python.framework/Versions/3.7/lib/python3.7/site-packages/prompt_toolkit/eventloop/base.py'>, 'prompt_toolkit.log': <module 'prompt_toolkit.log' from '/Library/Frameworks/Python.framework/Versions/3.7/lib/python3.7/site-packages/prompt_toolkit/log.py'>, 'prompt_toolkit.eventloop.coroutine': <module 'prompt_toolkit.eventloop.coroutine' from '/Library/Frameworks/Python.framework/Versions/3.7/lib/python3.7/site-packages/prompt_toolkit/eventloop/coroutine.py'>, 'prompt_toolkit.eventloop.defaults': <module 'prompt_toolkit.eventloop.defaults' from '/Library/Frameworks/Python.framework/Versions/3.7/lib/python3.7/site-packages/prompt_toolkit/eventloop/defaults.py'>, 'prompt_toolkit.utils': <module 'prompt_toolkit.utils' from '/Library/Frameworks/Python.framework/Versions/3.7/lib/python3.7/site-packages/prompt_toolkit/utils.py'>, 'six.moves': <module 'six.moves' (<six._SixMetaPathImporter object at 0x10ebad550>)>, 'wcwidth': <module 'wcwidth' from '/Library/Frameworks/Python.framework/Versions/3.7/lib/python3.7/site-packages/wcwidth/__init__.py'>, 'wcwidth.wcwidth': <module 'wcwidth.wcwidth' from '/Library/Frameworks/Python.framework/Versions/3.7/lib/python3.7/site-packages/wcwidth/wcwidth.py'>, 'wcwidth.table_wide': <module 'wcwidth.table_wide' from '/Library/Frameworks/Python.framework/Versions/3.7/lib/python3.7/site-packages/wcwidth/table_wide.py'>, 'wcwidth.table_zero': <module 'wcwidth.table_zero' from '/Library/Frameworks/Python.framework/Versions/3.7/lib/python3.7/site-packages/wcwidth/table_zero.py'>, 'prompt_toolkit.cache': <module 'prompt_toolkit.cache' from '/Library/Frameworks/Python.framework/Versions/3.7/lib/python3.7/site-packages/prompt_toolkit/cache.py'>, 'prompt_toolkit.eventloop.future': <module 'prompt_toolkit.eventloop.future' from '/Library/Frameworks/Python.framework/Versions/3.7/lib/python3.7/site-packages/prompt_toolkit/eventloop/future.py'>, 'prompt_toolkit.eventloop.context': <module 'prompt_toolkit.eventloop.context' from '/Library/Frameworks/Python.framework/Versions/3.7/lib/python3.7/site-packages/prompt_toolkit/eventloop/context.py'>, 'prompt_toolkit.eventloop.async_generator': <module 'prompt_toolkit.eventloop.async_generator' from '/Library/Frameworks/Python.framework/Versions/3.7/lib/python3.7/site-packages/prompt_toolkit/eventloop/async_generator.py'>, 'queue': <module 'queue' from '/Library/Frameworks/Python.framework/Versions/3.7/lib/python3.7/queue.py'>, '_queue': <module '_queue' from '/Library/Frameworks/Python.framework/Versions/3.7/lib/python3.7/lib-dynload/_queue.cpython-37m-darwin.so'>, 'six.moves.queue': <module 'queue' from '/Library/Frameworks/Python.framework/Versions/3.7/lib/python3.7/queue.py'>, 'prompt_toolkit.eventloop.event': <module 'prompt_toolkit.eventloop.event' from '/Library/Frameworks/Python.framework/Versions/3.7/lib/python3.7/site-packages/prompt_toolkit/eventloop/event.py'>, 'prompt_toolkit.application.run_in_terminal': <module 'prompt_toolkit.application.run_in_terminal' from '/Library/Frameworks/Python.framework/Versions/3.7/lib/python3.7/site-packages/prompt_toolkit/application/run_in_terminal.py'>, 'prompt_toolkit.auto_suggest': <module 'prompt_toolkit.auto_suggest' from '/Library/Frameworks/Python.framework/Versions/3.7/lib/python3.7/site-packages/prompt_toolkit/auto_suggest.py'>, 'prompt_toolkit.filters': <module 'prompt_toolkit.filters' from '/Library/Frameworks/Python.framework/Versions/3.7/lib/python3.7/site-packages/prompt_toolkit/filters/__init__.py'>, 'prompt_toolkit.filters.base': <module 'prompt_toolkit.filters.base' from '/Library/Frameworks/Python.framework/Versions/3.7/lib/python3.7/site-packages/prompt_toolkit/filters/base.py'>, 'prompt_toolkit.filters.app': <module 'prompt_toolkit.filters.app' from '/Library/Frameworks/Python.framework/Versions/3.7/lib/python3.7/site-packages/prompt_toolkit/filters/app.py'>, 'prompt_toolkit.enums': <module 'prompt_toolkit.enums' from '/Library/Frameworks/Python.framework/Versions/3.7/lib/python3.7/site-packages/prompt_toolkit/enums.py'>, 'prompt_toolkit.filters.utils': <module 'prompt_toolkit.filters.utils' from '/Library/Frameworks/Python.framework/Versions/3.7/lib/python3.7/site-packages/prompt_toolkit/filters/utils.py'>, 'prompt_toolkit.filters.cli': <module 'prompt_toolkit.filters.cli' from '/Library/Frameworks/Python.framework/Versions/3.7/lib/python3.7/site-packages/prompt_toolkit/filters/cli.py'>, 'prompt_toolkit.clipboard': <module 'prompt_toolkit.clipboard' from '/Library/Frameworks/Python.framework/Versions/3.7/lib/python3.7/site-packages/prompt_toolkit/clipboard/__init__.py'>, 'prompt_toolkit.clipboard.base': <module 'prompt_toolkit.clipboard.base' from '/Library/Frameworks/Python.framework/Versions/3.7/lib/python3.7/site-packages/prompt_toolkit/clipboard/base.py'>, 'prompt_toolkit.selection': <module 'prompt_toolkit.selection' from '/Library/Frameworks/Python.framework/Versions/3.7/lib/python3.7/site-packages/prompt_toolkit/selection.py'>, 'prompt_toolkit.clipboard.in_memory': <module 'prompt_toolkit.clipboard.in_memory' from '/Library/Frameworks/Python.framework/Versions/3.7/lib/python3.7/site-packages/prompt_toolkit/clipboard/in_memory.py'>, 'prompt_toolkit.completion': <module 'prompt_toolkit.completion' from '/Library/Frameworks/Python.framework/Versions/3.7/lib/python3.7/site-packages/prompt_toolkit/completion/__init__.py'>, 'prompt_toolkit.completion.base': <module 'prompt_toolkit.completion.base' from '/Library/Frameworks/Python.framework/Versions/3.7/lib/python3.7/site-packages/prompt_toolkit/completion/base.py'>, 'prompt_toolkit.completion.filesystem': <module 'prompt_toolkit.completion.filesystem' from '/Library/Frameworks/Python.framework/Versions/3.7/lib/python3.7/site-packages/prompt_toolkit/completion/filesystem.py'>, 'prompt_toolkit.completion.word_completer': <module 'prompt_toolkit.completion.word_completer' from '/Library/Frameworks/Python.framework/Versions/3.7/lib/python3.7/site-packages/prompt_toolkit/completion/word_completer.py'>, 'prompt_toolkit.completion.fuzzy_completer': <module 'prompt_toolkit.completion.fuzzy_completer' from '/Library/Frameworks/Python.framework/Versions/3.7/lib/python3.7/site-packages/prompt_toolkit/completion/fuzzy_completer.py'>, 'prompt_toolkit.document': <module 'prompt_toolkit.document' from '/Library/Frameworks/Python.framework/Versions/3.7/lib/python3.7/site-packages/prompt_toolkit/document.py'>, 'prompt_toolkit.history': <module 'prompt_toolkit.history' from '/Library/Frameworks/Python.framework/Versions/3.7/lib/python3.7/site-packages/prompt_toolkit/history.py'>, 'prompt_toolkit.search': <module 'prompt_toolkit.search' from '/Library/Frameworks/Python.framework/Versions/3.7/lib/python3.7/site-packages/prompt_toolkit/search.py'>, 'prompt_toolkit.key_binding': <module 'prompt_toolkit.key_binding' from '/Library/Frameworks/Python.framework/Versions/3.7/lib/python3.7/site-packages/prompt_toolkit/key_binding/__init__.py'>, 'prompt_toolkit.key_binding.key_bindings': <module 'prompt_toolkit.key_binding.key_bindings' from '/Library/Frameworks/Python.framework/Versions/3.7/lib/python3.7/site-packages/prompt_toolkit/key_binding/key_bindings.py'>, 'prompt_toolkit.keys': <module 'prompt_toolkit.keys' from '/Library/Frameworks/Python.framework/Versions/3.7/lib/python3.7/site-packages/prompt_toolkit/keys.py'>, 'prompt_toolkit.key_binding.vi_state': <module 'prompt_toolkit.key_binding.vi_state' from '/Library/Frameworks/Python.framework/Versions/3.7/lib/python3.7/site-packages/prompt_toolkit/key_binding/vi_state.py'>, 'prompt_toolkit.validation': <module 'prompt_toolkit.validation' from '/Library/Frameworks/Python.framework/Versions/3.7/lib/python3.7/site-packages/prompt_toolkit/validation.py'>, 'prompt_toolkit.input': <module 'prompt_toolkit.input' from '/Library/Frameworks/Python.framework/Versions/3.7/lib/python3.7/site-packages/prompt_toolkit/input/__init__.py'>, 'prompt_toolkit.input.base': <module 'prompt_toolkit.input.base' from '/Library/Frameworks/Python.framework/Versions/3.7/lib/python3.7/site-packages/prompt_toolkit/input/base.py'>, 'prompt_toolkit.input.defaults': <module 'prompt_toolkit.input.defaults' from '/Library/Frameworks/Python.framework/Versions/3.7/lib/python3.7/site-packages/prompt_toolkit/input/defaults.py'>, 'prompt_toolkit.input.typeahead': <module 'prompt_toolkit.input.typeahead' from '/Library/Frameworks/Python.framework/Versions/3.7/lib/python3.7/site-packages/prompt_toolkit/input/typeahead.py'>, 'prompt_toolkit.key_binding.bindings': <module 'prompt_toolkit.key_binding.bindings' from '/Library/Frameworks/Python.framework/Versions/3.7/lib/python3.7/site-packages/prompt_toolkit/key_binding/bindings/__init__.py'>, 'prompt_toolkit.key_binding.bindings.page_navigation': <module 'prompt_toolkit.key_binding.bindings.page_navigation' from '/Library/Frameworks/Python.framework/Versions/3.7/lib/python3.7/site-packages/prompt_toolkit/key_binding/bindings/page_navigation.py'>, 'prompt_toolkit.key_binding.bindings.scroll': <module 'prompt_toolkit.key_binding.bindings.scroll' from '/Library/Frameworks/Python.framework/Versions/3.7/lib/python3.7/site-packages/prompt_toolkit/key_binding/bindings/scroll.py'>, 'prompt_toolkit.key_binding.defaults': <module 'prompt_toolkit.key_binding.defaults' from '/Library/Frameworks/Python.framework/Versions/3.7/lib/python3.7/site-packages/prompt_toolkit/key_binding/defaults.py'>, 'prompt_toolkit.key_binding.bindings.basic': <module 'prompt_toolkit.key_binding.bindings.basic' from '/Library/Frameworks/Python.framework/Versions/3.7/lib/python3.7/site-packages/prompt_toolkit/key_binding/bindings/basic.py'>, 'prompt_toolkit.key_binding.key_processor': <module 'prompt_toolkit.key_binding.key_processor' from '/Library/Frameworks/Python.framework/Versions/3.7/lib/python3.7/site-packages/prompt_toolkit/key_binding/key_processor.py'>, 'prompt_toolkit.key_binding.bindings.named_commands': <module 'prompt_toolkit.key_binding.bindings.named_commands' from '/Library/Frameworks/Python.framework/Versions/3.7/lib/python3.7/site-packages/prompt_toolkit/key_binding/bindings/named_commands.py'>, 'prompt_toolkit.key_binding.bindings.completion': <module 'prompt_toolkit.key_binding.bindings.completion' from '/Library/Frameworks/Python.framework/Versions/3.7/lib/python3.7/site-packages/prompt_toolkit/key_binding/bindings/completion.py'>, 'prompt_toolkit.key_binding.bindings.emacs': <module 'prompt_toolkit.key_binding.bindings.emacs' from '/Library/Frameworks/Python.framework/Versions/3.7/lib/python3.7/site-packages/prompt_toolkit/key_binding/bindings/emacs.py'>, 'prompt_toolkit.key_binding.bindings.vi': <module 'prompt_toolkit.key_binding.bindings.vi' from '/Library/Frameworks/Python.framework/Versions/3.7/lib/python3.7/site-packages/prompt_toolkit/key_binding/bindings/vi.py'>, 'prompt_toolkit.input.vt100_parser': <module 'prompt_toolkit.input.vt100_parser' from '/Library/Frameworks/Python.framework/Versions/3.7/lib/python3.7/site-packages/prompt_toolkit/input/vt100_parser.py'>, 'prompt_toolkit.input.ansi_escape_sequences': <module 'prompt_toolkit.input.ansi_escape_sequences' from '/Library/Frameworks/Python.framework/Versions/3.7/lib/python3.7/site-packages/prompt_toolkit/input/ansi_escape_sequences.py'>, 'prompt_toolkit.key_binding.digraphs': <module 'prompt_toolkit.key_binding.digraphs' from '/Library/Frameworks/Python.framework/Versions/3.7/lib/python3.7/site-packages/prompt_toolkit/key_binding/digraphs.py'>, 'prompt_toolkit.key_binding.bindings.mouse': <module 'prompt_toolkit.key_binding.bindings.mouse' from '/Library/Frameworks/Python.framework/Versions/3.7/lib/python3.7/site-packages/prompt_toolkit/key_binding/bindings/mouse.py'>, 'prompt_toolkit.layout': <module 'prompt_toolkit.layout' from '/Library/Frameworks/Python.framework/Versions/3.7/lib/python3.7/site-packages/prompt_toolkit/layout/__init__.py'>, 'prompt_toolkit.layout.containers': <module 'prompt_toolkit.layout.containers' from '/Library/Frameworks/Python.framework/Versions/3.7/lib/python3.7/site-packages/prompt_toolkit/layout/containers.py'>, 'prompt_toolkit.layout.controls': <module 'prompt_toolkit.layout.controls' from '/Library/Frameworks/Python.framework/Versions/3.7/lib/python3.7/site-packages/prompt_toolkit/layout/controls.py'>, 'prompt_toolkit.formatted_text': <module 'prompt_toolkit.formatted_text' from '/Library/Frameworks/Python.framework/Versions/3.7/lib/python3.7/site-packages/prompt_toolkit/formatted_text/__init__.py'>, 'prompt_toolkit.formatted_text.base': <module 'prompt_toolkit.formatted_text.base' from '/Library/Frameworks/Python.framework/Versions/3.7/lib/python3.7/site-packages/prompt_toolkit/formatted_text/base.py'>, 'prompt_toolkit.formatted_text.html': <module 'prompt_toolkit.formatted_text.html' from '/Library/Frameworks/Python.framework/Versions/3.7/lib/python3.7/site-packages/prompt_toolkit/formatted_text/html.py'>, 'xml': <module 'xml' from '/Library/Frameworks/Python.framework/Versions/3.7/lib/python3.7/xml/__init__.py'>, 'xml.dom': <module 'xml.dom' from '/Library/Frameworks/Python.framework/Versions/3.7/lib/python3.7/xml/dom/__init__.py'>, 'xml.dom.domreg': <module 'xml.dom.domreg' from '/Library/Frameworks/Python.framework/Versions/3.7/lib/python3.7/xml/dom/domreg.py'>, 'xml.dom.minidom': <module 'xml.dom.minidom' from '/Library/Frameworks/Python.framework/Versions/3.7/lib/python3.7/xml/dom/minidom.py'>, 'xml.dom.minicompat': <module 'xml.dom.minicompat' from '/Library/Frameworks/Python.framework/Versions/3.7/lib/python3.7/xml/dom/minicompat.py'>, 'xml.dom.xmlbuilder': <module 'xml.dom.xmlbuilder' from '/Library/Frameworks/Python.framework/Versions/3.7/lib/python3.7/xml/dom/xmlbuilder.py'>, 'xml.dom.NodeFilter': <module 'xml.dom.NodeFilter' from '/Library/Frameworks/Python.framework/Versions/3.7/lib/python3.7/xml/dom/NodeFilter.py'>, 'prompt_toolkit.formatted_text.ansi': <module 'prompt_toolkit.formatted_text.ansi' from '/Library/Frameworks/Python.framework/Versions/3.7/lib/python3.7/site-packages/prompt_toolkit/formatted_text/ansi.py'>, 'prompt_toolkit.output': <module 'prompt_toolkit.output' from '/Library/Frameworks/Python.framework/Versions/3.7/lib/python3.7/site-packages/prompt_toolkit/output/__init__.py'>, 'prompt_toolkit.output.base': <module 'prompt_toolkit.output.base' from '/Library/Frameworks/Python.framework/Versions/3.7/lib/python3.7/site-packages/prompt_toolkit/output/base.py'>, 'prompt_toolkit.layout.screen': <module 'prompt_toolkit.layout.screen' from '/Library/Frameworks/Python.framework/Versions/3.7/lib/python3.7/site-packages/prompt_toolkit/layout/screen.py'>, 'prompt_toolkit.output.defaults': <module 'prompt_toolkit.output.defaults' from '/Library/Frameworks/Python.framework/Versions/3.7/lib/python3.7/site-packages/prompt_toolkit/output/defaults.py'>, 'prompt_toolkit.output.color_depth': <module 'prompt_toolkit.output.color_depth' from '/Library/Frameworks/Python.framework/Versions/3.7/lib/python3.7/site-packages/prompt_toolkit/output/color_depth.py'>, 'prompt_toolkit.output.vt100': <module 'prompt_toolkit.output.vt100' from '/Library/Frameworks/Python.framework/Versions/3.7/lib/python3.7/site-packages/prompt_toolkit/output/vt100.py'>, 'prompt_toolkit.styles': <module 'prompt_toolkit.styles' from '/Library/Frameworks/Python.framework/Versions/3.7/lib/python3.7/site-packages/prompt_toolkit/styles/__init__.py'>, 'prompt_toolkit.styles.base': <module 'prompt_toolkit.styles.base' from '/Library/Frameworks/Python.framework/Versions/3.7/lib/python3.7/site-packages/prompt_toolkit/styles/base.py'>, 'prompt_toolkit.styles.defaults': <module 'prompt_toolkit.styles.defaults' from '/Library/Frameworks/Python.framework/Versions/3.7/lib/python3.7/site-packages/prompt_toolkit/styles/defaults.py'>, 'prompt_toolkit.styles.style': <module 'prompt_toolkit.styles.style' from '/Library/Frameworks/Python.framework/Versions/3.7/lib/python3.7/site-packages/prompt_toolkit/styles/style.py'>, 'prompt_toolkit.styles.named_colors': <module 'prompt_toolkit.styles.named_colors' from '/Library/Frameworks/Python.framework/Versions/3.7/lib/python3.7/site-packages/prompt_toolkit/styles/named_colors.py'>, 'prompt_toolkit.styles.pygments': <module 'prompt_toolkit.styles.pygments' from '/Library/Frameworks/Python.framework/Versions/3.7/lib/python3.7/site-packages/prompt_toolkit/styles/pygments.py'>, 'prompt_toolkit.styles.style_transformation': <module 'prompt_toolkit.styles.style_transformation' from '/Library/Frameworks/Python.framework/Versions/3.7/lib/python3.7/site-packages/prompt_toolkit/styles/style_transformation.py'>, 'colorsys': <module 'colorsys' from '/Library/Frameworks/Python.framework/Versions/3.7/lib/python3.7/colorsys.py'>, 'array': <module 'array' from '/Library/Frameworks/Python.framework/Versions/3.7/lib/python3.7/lib-dynload/array.cpython-37m-darwin.so'>, 'prompt_toolkit.formatted_text.pygments': <module 'prompt_toolkit.formatted_text.pygments' from '/Library/Frameworks/Python.framework/Versions/3.7/lib/python3.7/site-packages/prompt_toolkit/formatted_text/pygments.py'>, 'prompt_toolkit.formatted_text.utils': <module 'prompt_toolkit.formatted_text.utils' from '/Library/Frameworks/Python.framework/Versions/3.7/lib/python3.7/site-packages/prompt_toolkit/formatted_text/utils.py'>, 'prompt_toolkit.lexers': <module 'prompt_toolkit.lexers' from '/Library/Frameworks/Python.framework/Versions/3.7/lib/python3.7/site-packages/prompt_toolkit/lexers/__init__.py'>, 'prompt_toolkit.lexers.base': <module 'prompt_toolkit.lexers.base' from '/Library/Frameworks/Python.framework/Versions/3.7/lib/python3.7/site-packages/prompt_toolkit/lexers/base.py'>, 'prompt_toolkit.lexers.pygments': <module 'prompt_toolkit.lexers.pygments' from '/Library/Frameworks/Python.framework/Versions/3.7/lib/python3.7/site-packages/prompt_toolkit/lexers/pygments.py'>, 'prompt_toolkit.mouse_events': <module 'prompt_toolkit.mouse_events' from '/Library/Frameworks/Python.framework/Versions/3.7/lib/python3.7/site-packages/prompt_toolkit/mouse_events.py'>, 'prompt_toolkit.layout.processors': <module 'prompt_toolkit.layout.processors' from '/Library/Frameworks/Python.framework/Versions/3.7/lib/python3.7/site-packages/prompt_toolkit/layout/processors.py'>, 'prompt_toolkit.layout.utils': <module 'prompt_toolkit.layout.utils' from '/Library/Frameworks/Python.framework/Versions/3.7/lib/python3.7/site-packages/prompt_toolkit/layout/utils.py'>, 'prompt_toolkit.layout.dimension': <module 'prompt_toolkit.layout.dimension' from '/Library/Frameworks/Python.framework/Versions/3.7/lib/python3.7/site-packages/prompt_toolkit/layout/dimension.py'>, 'prompt_toolkit.layout.margins': <module 'prompt_toolkit.layout.margins' from '/Library/Frameworks/Python.framework/Versions/3.7/lib/python3.7/site-packages/prompt_toolkit/layout/margins.py'>, 'prompt_toolkit.layout.layout': <module 'prompt_toolkit.layout.layout' from '/Library/Frameworks/Python.framework/Versions/3.7/lib/python3.7/site-packages/prompt_toolkit/layout/layout.py'>, 'prompt_toolkit.layout.menus': <module 'prompt_toolkit.layout.menus' from '/Library/Frameworks/Python.framework/Versions/3.7/lib/python3.7/site-packages/prompt_toolkit/layout/menus.py'>, 'prompt_toolkit.renderer': <module 'prompt_toolkit.renderer' from '/Library/Frameworks/Python.framework/Versions/3.7/lib/python3.7/site-packages/prompt_toolkit/renderer.py'>, 'prompt_toolkit.layout.mouse_handlers': <module 'prompt_toolkit.layout.mouse_handlers' from '/Library/Frameworks/Python.framework/Versions/3.7/lib/python3.7/site-packages/prompt_toolkit/layout/mouse_handlers.py'>, 'prompt_toolkit.key_binding.bindings.cpr': <module 'prompt_toolkit.key_binding.bindings.cpr' from '/Library/Frameworks/Python.framework/Versions/3.7/lib/python3.7/site-packages/prompt_toolkit/key_binding/bindings/cpr.py'>, 'prompt_toolkit.key_binding.emacs_state': <module 'prompt_toolkit.key_binding.emacs_state' from '/Library/Frameworks/Python.framework/Versions/3.7/lib/python3.7/site-packages/prompt_toolkit/key_binding/emacs_state.py'>, 'prompt_toolkit.layout.dummy': <module 'prompt_toolkit.layout.dummy' from '/Library/Frameworks/Python.framework/Versions/3.7/lib/python3.7/site-packages/prompt_toolkit/layout/dummy.py'>, 'prompt_toolkit.application.dummy': <module 'prompt_toolkit.application.dummy' from '/Library/Frameworks/Python.framework/Versions/3.7/lib/python3.7/site-packages/prompt_toolkit/application/dummy.py'>, 'prompt_toolkit.shortcuts': <module 'prompt_toolkit.shortcuts' from '/Library/Frameworks/Python.framework/Versions/3.7/lib/python3.7/site-packages/prompt_toolkit/shortcuts/__init__.py'>, 'prompt_toolkit.shortcuts.dialogs': <module 'prompt_toolkit.shortcuts.dialogs' from '/Library/Frameworks/Python.framework/Versions/3.7/lib/python3.7/site-packages/prompt_toolkit/shortcuts/dialogs.py'>, 'prompt_toolkit.key_binding.bindings.focus': <module 'prompt_toolkit.key_binding.bindings.focus' from '/Library/Frameworks/Python.framework/Versions/3.7/lib/python3.7/site-packages/prompt_toolkit/key_binding/bindings/focus.py'>, 'prompt_toolkit.widgets': <module 'prompt_toolkit.widgets' from '/Library/Frameworks/Python.framework/Versions/3.7/lib/python3.7/site-packages/prompt_toolkit/widgets/__init__.py'>, 'prompt_toolkit.widgets.base': <module 'prompt_toolkit.widgets.base' from '/Library/Frameworks/Python.framework/Versions/3.7/lib/python3.7/site-packages/prompt_toolkit/widgets/base.py'>, 'prompt_toolkit.widgets.toolbars': <module 'prompt_toolkit.widgets.toolbars' from '/Library/Frameworks/Python.framework/Versions/3.7/lib/python3.7/site-packages/prompt_toolkit/widgets/toolbars.py'>, 'prompt_toolkit.widgets.dialogs': <module 'prompt_toolkit.widgets.dialogs' from '/Library/Frameworks/Python.framework/Versions/3.7/lib/python3.7/site-packages/prompt_toolkit/widgets/dialogs.py'>, 'prompt_toolkit.widgets.menus': <module 'prompt_toolkit.widgets.menus' from '/Library/Frameworks/Python.framework/Versions/3.7/lib/python3.7/site-packages/prompt_toolkit/widgets/menus.py'>, 'prompt_toolkit.shortcuts.prompt': <module 'prompt_toolkit.shortcuts.prompt' from '/Library/Frameworks/Python.framework/Versions/3.7/lib/python3.7/site-packages/prompt_toolkit/shortcuts/prompt.py'>, 'prompt_toolkit.key_binding.bindings.auto_suggest': <module 'prompt_toolkit.key_binding.bindings.auto_suggest' from '/Library/Frameworks/Python.framework/Versions/3.7/lib/python3.7/site-packages/prompt_toolkit/key_binding/bindings/auto_suggest.py'>, 'prompt_toolkit.key_binding.bindings.open_in_editor': <module 'prompt_toolkit.key_binding.bindings.open_in_editor' from '/Library/Frameworks/Python.framework/Versions/3.7/lib/python3.7/site-packages/prompt_toolkit/key_binding/bindings/open_in_editor.py'>, 'prompt_toolkit.shortcuts.utils': <module 'prompt_toolkit.shortcuts.utils' from '/Library/Frameworks/Python.framework/Versions/3.7/lib/python3.7/site-packages/prompt_toolkit/shortcuts/utils.py'>, 'prompt_toolkit.shortcuts.progress_bar': <module 'prompt_toolkit.shortcuts.progress_bar' from '/Library/Frameworks/Python.framework/Versions/3.7/lib/python3.7/site-packages/prompt_toolkit/shortcuts/progress_bar/__init__.py'>, 'prompt_toolkit.shortcuts.progress_bar.base': <module 'prompt_toolkit.shortcuts.progress_bar.base' from '/Library/Frameworks/Python.framework/Versions/3.7/lib/python3.7/site-packages/prompt_toolkit/shortcuts/progress_bar/base.py'>, 'prompt_toolkit.shortcuts.progress_bar.formatters': <module 'prompt_toolkit.shortcuts.progress_bar.formatters' from '/Library/Frameworks/Python.framework/Versions/3.7/lib/python3.7/site-packages/prompt_toolkit/shortcuts/progress_bar/formatters.py'>, 'prompt_toolkit.patch_stdout': <module 'prompt_toolkit.patch_stdout' from '/Library/Frameworks/Python.framework/Versions/3.7/lib/python3.7/site-packages/prompt_toolkit/patch_stdout.py'>, 'pygments.style': <module 'pygments.style' from '/Library/Frameworks/Python.framework/Versions/3.7/lib/python3.7/site-packages/pygments/style.py'>, 'IPython.terminal.debugger': <module 'IPython.terminal.debugger' from '/Library/Frameworks/Python.framework/Versions/3.7/lib/python3.7/site-packages/IPython/terminal/debugger.py'>, 'IPython.core.completer': <module 'IPython.core.completer' from '/Library/Frameworks/Python.framework/Versions/3.7/lib/python3.7/site-packages/IPython/core/completer.py'>, 'unicodedata': <module 'unicodedata' from '/Library/Frameworks/Python.framework/Versions/3.7/lib/python3.7/lib-dynload/unicodedata.cpython-37m-darwin.so'>, 'IPython.core.latex_symbols': <module 'IPython.core.latex_symbols' from '/Library/Frameworks/Python.framework/Versions/3.7/lib/python3.7/site-packages/IPython/core/latex_symbols.py'>, 'IPython.utils.generics': <module 'IPython.utils.generics' from '/Library/Frameworks/Python.framework/Versions/3.7/lib/python3.7/site-packages/IPython/utils/generics.py'>, 'jedi': <module 'jedi' from '/Library/Frameworks/Python.framework/Versions/3.7/lib/python3.7/site-packages/jedi/__init__.py'>, 'jedi.api': <module 'jedi.api' from '/Library/Frameworks/Python.framework/Versions/3.7/lib/python3.7/site-packages/jedi/api/__init__.py'>, 'parso': <module 'parso' from '/Library/Frameworks/Python.framework/Versions/3.7/lib/python3.7/site-packages/parso/__init__.py'>, 'parso.parser': <module 'parso.parser' from '/Library/Frameworks/Python.framework/Versions/3.7/lib/python3.7/site-packages/parso/parser.py'>, 'parso.tree': <module 'parso.tree' from '/Library/Frameworks/Python.framework/Versions/3.7/lib/python3.7/site-packages/parso/tree.py'>, 'parso._compatibility': <module 'parso._compatibility' from '/Library/Frameworks/Python.framework/Versions/3.7/lib/python3.7/site-packages/parso/_compatibility.py'>, 'parso.utils': <module 'parso.utils' from '/Library/Frameworks/Python.framework/Versions/3.7/lib/python3.7/site-packages/parso/utils.py'>, 'parso.pgen2': <module 'parso.pgen2' from '/Library/Frameworks/Python.framework/Versions/3.7/lib/python3.7/site-packages/parso/pgen2/__init__.py'>, 'parso.pgen2.generator': <module 'parso.pgen2.generator' from '/Library/Frameworks/Python.framework/Versions/3.7/lib/python3.7/site-packages/parso/pgen2/generator.py'>, 'parso.pgen2.grammar_parser': <module 'parso.pgen2.grammar_parser' from '/Library/Frameworks/Python.framework/Versions/3.7/lib/python3.7/site-packages/parso/pgen2/grammar_parser.py'>, 'parso.python': <module 'parso.python' from '/Library/Frameworks/Python.framework/Versions/3.7/lib/python3.7/site-packages/parso/python/__init__.py'>, 'parso.python.tokenize': <module 'parso.python.tokenize' from '/Library/Frameworks/Python.framework/Versions/3.7/lib/python3.7/site-packages/parso/python/tokenize.py'>, 'parso.python.token': <module 'parso.python.token' from '/Library/Frameworks/Python.framework/Versions/3.7/lib/python3.7/site-packages/parso/python/token.py'>, 'parso.grammar': <module 'parso.grammar' from '/Library/Frameworks/Python.framework/Versions/3.7/lib/python3.7/site-packages/parso/grammar.py'>, 'parso.python.diff': <module 'parso.python.diff' from '/Library/Frameworks/Python.framework/Versions/3.7/lib/python3.7/site-packages/parso/python/diff.py'>, 'difflib': <module 'difflib' from '/Library/Frameworks/Python.framework/Versions/3.7/lib/python3.7/difflib.py'>, 'parso.python.parser': <module 'parso.python.parser' from '/Library/Frameworks/Python.framework/Versions/3.7/lib/python3.7/site-packages/parso/python/parser.py'>, 'parso.python.tree': <module 'parso.python.tree' from '/Library/Frameworks/Python.framework/Versions/3.7/lib/python3.7/site-packages/parso/python/tree.py'>, 'parso.python.prefix': <module 'parso.python.prefix' from '/Library/Frameworks/Python.framework/Versions/3.7/lib/python3.7/site-packages/parso/python/prefix.py'>, 'parso.cache': <module 'parso.cache' from '/Library/Frameworks/Python.framework/Versions/3.7/lib/python3.7/site-packages/parso/cache.py'>, 'gc': <module 'gc' (built-in)>, 'parso.python.errors': <module 'parso.python.errors' from '/Library/Frameworks/Python.framework/Versions/3.7/lib/python3.7/site-packages/parso/python/errors.py'>, 'parso.normalizer': <module 'parso.normalizer' from '/Library/Frameworks/Python.framework/Versions/3.7/lib/python3.7/site-packages/parso/normalizer.py'>, 'parso.python.pep8': <module 'parso.python.pep8' from '/Library/Frameworks/Python.framework/Versions/3.7/lib/python3.7/site-packages/parso/python/pep8.py'>, 'parso.file_io': <module 'parso.file_io' from '/Library/Frameworks/Python.framework/Versions/3.7/lib/python3.7/site-packages/parso/file_io.py'>, 'jedi._compatibility': <module 'jedi._compatibility' from '/Library/Frameworks/Python.framework/Versions/3.7/lib/python3.7/site-packages/jedi/_compatibility.py'>, 'jedi.parser_utils': <module 'jedi.parser_utils' from '/Library/Frameworks/Python.framework/Versions/3.7/lib/python3.7/site-packages/jedi/parser_utils.py'>, 'jedi.debug': <module 'jedi.debug' from '/Library/Frameworks/Python.framework/Versions/3.7/lib/python3.7/site-packages/jedi/debug.py'>, 'jedi.settings': <module 'jedi.settings' from '/Library/Frameworks/Python.framework/Versions/3.7/lib/python3.7/site-packages/jedi/settings.py'>, 'jedi.cache': <module 'jedi.cache' from '/Library/Frameworks/Python.framework/Versions/3.7/lib/python3.7/site-packages/jedi/cache.py'>, 'jedi.api.classes': <module 'jedi.api.classes' from '/Library/Frameworks/Python.framework/Versions/3.7/lib/python3.7/site-packages/jedi/api/classes.py'>, 'jedi.evaluate': <module 'jedi.evaluate' from '/Library/Frameworks/Python.framework/Versions/3.7/lib/python3.7/site-packages/jedi/evaluate/__init__.py'>, 'jedi.evaluate.utils': <module 'jedi.evaluate.utils' from '/Library/Frameworks/Python.framework/Versions/3.7/lib/python3.7/site-packages/jedi/evaluate/utils.py'>, 'jedi.evaluate.imports': <module 'jedi.evaluate.imports' from '/Library/Frameworks/Python.framework/Versions/3.7/lib/python3.7/site-packages/jedi/evaluate/imports.py'>, 'jedi.evaluate.sys_path': <module 'jedi.evaluate.sys_path' from '/Library/Frameworks/Python.framework/Versions/3.7/lib/python3.7/site-packages/jedi/evaluate/sys_path.py'>, 'jedi.evaluate.cache': <module 'jedi.evaluate.cache' from '/Library/Frameworks/Python.framework/Versions/3.7/lib/python3.7/site-packages/jedi/evaluate/cache.py'>, 'jedi.evaluate.base_context': <module 'jedi.evaluate.base_context' from '/Library/Frameworks/Python.framework/Versions/3.7/lib/python3.7/site-packages/jedi/evaluate/base_context.py'>, 'jedi.common': <module 'jedi.common' from '/Library/Frameworks/Python.framework/Versions/3.7/lib/python3.7/site-packages/jedi/common/__init__.py'>, 'jedi.common.context': <module 'jedi.common.context' from '/Library/Frameworks/Python.framework/Versions/3.7/lib/python3.7/site-packages/jedi/common/context.py'>, 'jedi.evaluate.helpers': <module 'jedi.evaluate.helpers' from '/Library/Frameworks/Python.framework/Versions/3.7/lib/python3.7/site-packages/jedi/evaluate/helpers.py'>, 'jedi.common.utils': <module 'jedi.common.utils' from '/Library/Frameworks/Python.framework/Versions/3.7/lib/python3.7/site-packages/jedi/common/utils.py'>, 'jedi.evaluate.compiled': <module 'jedi.evaluate.compiled' from '/Library/Frameworks/Python.framework/Versions/3.7/lib/python3.7/site-packages/jedi/evaluate/compiled/__init__.py'>, 'jedi.evaluate.compiled.context': <module 'jedi.evaluate.compiled.context' from '/Library/Frameworks/Python.framework/Versions/3.7/lib/python3.7/site-packages/jedi/evaluate/compiled/context.py'>, 'jedi.evaluate.filters': <module 'jedi.evaluate.filters' from '/Library/Frameworks/Python.framework/Versions/3.7/lib/python3.7/site-packages/jedi/evaluate/filters.py'>, 'jedi.evaluate.flow_analysis': <module 'jedi.evaluate.flow_analysis' from '/Library/Frameworks/Python.framework/Versions/3.7/lib/python3.7/site-packages/jedi/evaluate/flow_analysis.py'>, 'jedi.evaluate.recursion': <module 'jedi.evaluate.recursion' from '/Library/Frameworks/Python.framework/Versions/3.7/lib/python3.7/site-packages/jedi/evaluate/recursion.py'>, 'jedi.evaluate.lazy_context': <module 'jedi.evaluate.lazy_context' from '/Library/Frameworks/Python.framework/Versions/3.7/lib/python3.7/site-packages/jedi/evaluate/lazy_context.py'>, 'jedi.evaluate.compiled.access': <module 'jedi.evaluate.compiled.access' from '/Library/Frameworks/Python.framework/Versions/3.7/lib/python3.7/site-packages/jedi/evaluate/compiled/access.py'>, 'jedi.evaluate.compiled.getattr_static': <module 'jedi.evaluate.compiled.getattr_static' from '/Library/Frameworks/Python.framework/Versions/3.7/lib/python3.7/site-packages/jedi/evaluate/compiled/getattr_static.py'>, 'jedi.evaluate.compiled.fake': <module 'jedi.evaluate.compiled.fake' from '/Library/Frameworks/Python.framework/Versions/3.7/lib/python3.7/site-packages/jedi/evaluate/compiled/fake.py'>, 'jedi.evaluate.analysis': <module 'jedi.evaluate.analysis' from '/Library/Frameworks/Python.framework/Versions/3.7/lib/python3.7/site-packages/jedi/evaluate/analysis.py'>, 'jedi.evaluate.context': <module 'jedi.evaluate.context' from '/Library/Frameworks/Python.framework/Versions/3.7/lib/python3.7/site-packages/jedi/evaluate/context/__init__.py'>, 'jedi.evaluate.context.module': <module 'jedi.evaluate.context.module' from '/Library/Frameworks/Python.framework/Versions/3.7/lib/python3.7/site-packages/jedi/evaluate/context/module.py'>, 'jedi.evaluate.context.klass': <module 'jedi.evaluate.context.klass' from '/Library/Frameworks/Python.framework/Versions/3.7/lib/python3.7/site-packages/jedi/evaluate/context/klass.py'>, 'jedi.evaluate.context.function': <module 'jedi.evaluate.context.function' from '/Library/Frameworks/Python.framework/Versions/3.7/lib/python3.7/site-packages/jedi/evaluate/context/function.py'>, 'jedi.evaluate.docstrings': <module 'jedi.evaluate.docstrings' from '/Library/Frameworks/Python.framework/Versions/3.7/lib/python3.7/site-packages/jedi/evaluate/docstrings.py'>, 'jedi.evaluate.pep0484': <module 'jedi.evaluate.pep0484' from '/Library/Frameworks/Python.framework/Versions/3.7/lib/python3.7/site-packages/jedi/evaluate/pep0484.py'>, 'jedi.evaluate.arguments': <module 'jedi.evaluate.arguments' from '/Library/Frameworks/Python.framework/Versions/3.7/lib/python3.7/site-packages/jedi/evaluate/arguments.py'>, 'jedi.evaluate.context.iterable': <module 'jedi.evaluate.context.iterable' from '/Library/Frameworks/Python.framework/Versions/3.7/lib/python3.7/site-packages/jedi/evaluate/context/iterable.py'>, 'jedi.evaluate.param': <module 'jedi.evaluate.param' from '/Library/Frameworks/Python.framework/Versions/3.7/lib/python3.7/site-packages/jedi/evaluate/param.py'>, 'jedi.evaluate.context.asynchronous': <module 'jedi.evaluate.context.asynchronous' from '/Library/Frameworks/Python.framework/Versions/3.7/lib/python3.7/site-packages/jedi/evaluate/context/asynchronous.py'>, 'jedi.evaluate.parser_cache': <module 'jedi.evaluate.parser_cache' from '/Library/Frameworks/Python.framework/Versions/3.7/lib/python3.7/site-packages/jedi/evaluate/parser_cache.py'>, 'jedi.evaluate.context.instance': <module 'jedi.evaluate.context.instance' from '/Library/Frameworks/Python.framework/Versions/3.7/lib/python3.7/site-packages/jedi/evaluate/context/instance.py'>, 'jedi.evaluate.syntax_tree': <module 'jedi.evaluate.syntax_tree' from '/Library/Frameworks/Python.framework/Versions/3.7/lib/python3.7/site-packages/jedi/evaluate/syntax_tree.py'>, 'jedi.evaluate.finder': <module 'jedi.evaluate.finder' from '/Library/Frameworks/Python.framework/Versions/3.7/lib/python3.7/site-packages/jedi/evaluate/finder.py'>, 'jedi.api.keywords': <module 'jedi.api.keywords' from '/Library/Frameworks/Python.framework/Versions/3.7/lib/python3.7/site-packages/jedi/api/keywords.py'>, 'pydoc_data': <module 'pydoc_data' from '/Library/Frameworks/Python.framework/Versions/3.7/lib/python3.7/pydoc_data/__init__.py'>, 'pydoc_data.topics': <module 'pydoc_data.topics' from '/Library/Frameworks/Python.framework/Versions/3.7/lib/python3.7/pydoc_data/topics.py'>, 'jedi.api.interpreter': <module 'jedi.api.interpreter' from '/Library/Frameworks/Python.framework/Versions/3.7/lib/python3.7/site-packages/jedi/api/interpreter.py'>, 'jedi.evaluate.compiled.mixed': <module 'jedi.evaluate.compiled.mixed' from '/Library/Frameworks/Python.framework/Versions/3.7/lib/python3.7/site-packages/jedi/evaluate/compiled/mixed.py'>, 'jedi.api.helpers': <module 'jedi.api.helpers' from '/Library/Frameworks/Python.framework/Versions/3.7/lib/python3.7/site-packages/jedi/api/helpers.py'>, 'jedi.api.completion': <module 'jedi.api.completion' from '/Library/Frameworks/Python.framework/Versions/3.7/lib/python3.7/site-packages/jedi/api/completion.py'>, 'jedi.api.environment': <module 'jedi.api.environment' from '/Library/Frameworks/Python.framework/Versions/3.7/lib/python3.7/site-packages/jedi/api/environment.py'>, 'filecmp': <module 'filecmp' from '/Library/Frameworks/Python.framework/Versions/3.7/lib/python3.7/filecmp.py'>, 'jedi.evaluate.compiled.subprocess': <module 'jedi.evaluate.compiled.subprocess' from '/Library/Frameworks/Python.framework/Versions/3.7/lib/python3.7/site-packages/jedi/evaluate/compiled/subprocess/__init__.py'>, 'jedi.evaluate.compiled.subprocess.functions': <module 'jedi.evaluate.compiled.subprocess.functions' from '/Library/Frameworks/Python.framework/Versions/3.7/lib/python3.7/site-packages/jedi/evaluate/compiled/subprocess/functions.py'>, 'jedi.api.exceptions': <module 'jedi.api.exceptions' from '/Library/Frameworks/Python.framework/Versions/3.7/lib/python3.7/site-packages/jedi/api/exceptions.py'>, 'jedi.api.project': <module 'jedi.api.project' from '/Library/Frameworks/Python.framework/Versions/3.7/lib/python3.7/site-packages/jedi/api/project.py'>, 'jedi.evaluate.usages': <module 'jedi.evaluate.usages' from '/Library/Frameworks/Python.framework/Versions/3.7/lib/python3.7/site-packages/jedi/evaluate/usages.py'>, 'IPython.terminal.ptutils': <module 'IPython.terminal.ptutils' from '/Library/Frameworks/Python.framework/Versions/3.7/lib/python3.7/site-packages/IPython/terminal/ptutils.py'>, 'IPython.terminal.shortcuts': <module 'IPython.terminal.shortcuts' from '/Library/Frameworks/Python.framework/Versions/3.7/lib/python3.7/site-packages/IPython/terminal/shortcuts.py'>, 'IPython.terminal.magics': <module 'IPython.terminal.magics' from '/Library/Frameworks/Python.framework/Versions/3.7/lib/python3.7/site-packages/IPython/terminal/magics.py'>, 'IPython.lib.clipboard': <module 'IPython.lib.clipboard' from '/Library/Frameworks/Python.framework/Versions/3.7/lib/python3.7/site-packages/IPython/lib/clipboard.py'>, 'IPython.terminal.pt_inputhooks': <module 'IPython.terminal.pt_inputhooks' from '/Library/Frameworks/Python.framework/Versions/3.7/lib/python3.7/site-packages/IPython/terminal/pt_inputhooks/__init__.py'>, 'IPython.terminal.prompts': <module 'IPython.terminal.prompts' from '/Library/Frameworks/Python.framework/Versions/3.7/lib/python3.7/site-packages/IPython/terminal/prompts.py'>, 'IPython.terminal.ipapp': <module 'IPython.terminal.ipapp' from '/Library/Frameworks/Python.framework/Versions/3.7/lib/python3.7/site-packages/IPython/terminal/ipapp.py'>, 'IPython.core.magics': <module 'IPython.core.magics' from '/Library/Frameworks/Python.framework/Versions/3.7/lib/python3.7/site-packages/IPython/core/magics/__init__.py'>, 'IPython.core.magics.auto': <module 'IPython.core.magics.auto' from '/Library/Frameworks/Python.framework/Versions/3.7/lib/python3.7/site-packages/IPython/core/magics/auto.py'>, 'IPython.core.magics.basic': <module 'IPython.core.magics.basic' from '/Library/Frameworks/Python.framework/Versions/3.7/lib/python3.7/site-packages/IPython/core/magics/basic.py'>, 'IPython.core.magics.code': <module 'IPython.core.magics.code' from '/Library/Frameworks/Python.framework/Versions/3.7/lib/python3.7/site-packages/IPython/core/magics/code.py'>, 'urllib.request': <module 'urllib.request' from '/Library/Frameworks/Python.framework/Versions/3.7/lib/python3.7/urllib/request.py'>, 'email': <module 'email' from '/Library/Frameworks/Python.framework/Versions/3.7/lib/python3.7/email/__init__.py'>, 'http': <module 'http' from '/Library/Frameworks/Python.framework/Versions/3.7/lib/python3.7/http/__init__.py'>, 'http.client': <module 'http.client' from '/Library/Frameworks/Python.framework/Versions/3.7/lib/python3.7/http/client.py'>, 'email.parser': <module 'email.parser' from '/Library/Frameworks/Python.framework/Versions/3.7/lib/python3.7/email/parser.py'>, 'email.feedparser': <module 'email.feedparser' from '/Library/Frameworks/Python.framework/Versions/3.7/lib/python3.7/email/feedparser.py'>, 'email.errors': <module 'email.errors' from '/Library/Frameworks/Python.framework/Versions/3.7/lib/python3.7/email/errors.py'>, 'email._policybase': <module 'email._policybase' from '/Library/Frameworks/Python.framework/Versions/3.7/lib/python3.7/email/_policybase.py'>, 'email.header': <module 'email.header' from '/Library/Frameworks/Python.framework/Versions/3.7/lib/python3.7/email/header.py'>, 'email.quoprimime': <module 'email.quoprimime' from '/Library/Frameworks/Python.framework/Versions/3.7/lib/python3.7/email/quoprimime.py'>, 'email.base64mime': <module 'email.base64mime' from '/Library/Frameworks/Python.framework/Versions/3.7/lib/python3.7/email/base64mime.py'>, 'email.charset': <module 'email.charset' from '/Library/Frameworks/Python.framework/Versions/3.7/lib/python3.7/email/charset.py'>, 'email.encoders': <module 'email.encoders' from '/Library/Frameworks/Python.framework/Versions/3.7/lib/python3.7/email/encoders.py'>, 'quopri': <module 'quopri' from '/Library/Frameworks/Python.framework/Versions/3.7/lib/python3.7/quopri.py'>, 'email.utils': <module 'email.utils' from '/Library/Frameworks/Python.framework/Versions/3.7/lib/python3.7/email/utils.py'>, 'email._parseaddr': <module 'email._parseaddr' from '/Library/Frameworks/Python.framework/Versions/3.7/lib/python3.7/email/_parseaddr.py'>, 'calendar': <module 'calendar' from '/Library/Frameworks/Python.framework/Versions/3.7/lib/python3.7/calendar.py'>, 'email.message': <module 'email.message' from '/Library/Frameworks/Python.framework/Versions/3.7/lib/python3.7/email/message.py'>, 'uu': <module 'uu' from '/Library/Frameworks/Python.framework/Versions/3.7/lib/python3.7/uu.py'>, 'email._encoded_words': <module 'email._encoded_words' from '/Library/Frameworks/Python.framework/Versions/3.7/lib/python3.7/email/_encoded_words.py'>, 'email.iterators': <module 'email.iterators' from '/Library/Frameworks/Python.framework/Versions/3.7/lib/python3.7/email/iterators.py'>, 'urllib.error': <module 'urllib.error' from '/Library/Frameworks/Python.framework/Versions/3.7/lib/python3.7/urllib/error.py'>, 'urllib.response': <module 'urllib.response' from '/Library/Frameworks/Python.framework/Versions/3.7/lib/python3.7/urllib/response.py'>, '_scproxy': <module '_scproxy' from '/Library/Frameworks/Python.framework/Versions/3.7/lib/python3.7/lib-dynload/_scproxy.cpython-37m-darwin.so'>, 'IPython.core.magics.config': <module 'IPython.core.magics.config' from '/Library/Frameworks/Python.framework/Versions/3.7/lib/python3.7/site-packages/IPython/core/magics/config.py'>, 'IPython.core.magics.display': <module 'IPython.core.magics.display' from '/Library/Frameworks/Python.framework/Versions/3.7/lib/python3.7/site-packages/IPython/core/magics/display.py'>, 'IPython.core.magics.execution': <module 'IPython.core.magics.execution' from '/Library/Frameworks/Python.framework/Versions/3.7/lib/python3.7/site-packages/IPython/core/magics/execution.py'>, 'timeit': <module 'timeit' from '/Library/Frameworks/Python.framework/Versions/3.7/lib/python3.7/timeit.py'>, 'cProfile': <module 'cProfile' from '/Library/Frameworks/Python.framework/Versions/3.7/lib/python3.7/cProfile.py'>, '_lsprof': <module '_lsprof' from '/Library/Frameworks/Python.framework/Versions/3.7/lib/python3.7/lib-dynload/_lsprof.cpython-37m-darwin.so'>, 'profile': <module 'profile' from '/Library/Frameworks/Python.framework/Versions/3.7/lib/python3.7/profile.py'>, 'pstats': <module 'pstats' from '/Library/Frameworks/Python.framework/Versions/3.7/lib/python3.7/pstats.py'>, 'IPython.utils.module_paths': <module 'IPython.utils.module_paths' from '/Library/Frameworks/Python.framework/Versions/3.7/lib/python3.7/site-packages/IPython/utils/module_paths.py'>, 'IPython.utils.timing': <module 'IPython.utils.timing' from '/Library/Frameworks/Python.framework/Versions/3.7/lib/python3.7/site-packages/IPython/utils/timing.py'>, 'IPython.core.magics.extension': <module 'IPython.core.magics.extension' from '/Library/Frameworks/Python.framework/Versions/3.7/lib/python3.7/site-packages/IPython/core/magics/extension.py'>, 'IPython.core.magics.history': <module 'IPython.core.magics.history' from '/Library/Frameworks/Python.framework/Versions/3.7/lib/python3.7/site-packages/IPython/core/magics/history.py'>, 'IPython.core.magics.logging': <module 'IPython.core.magics.logging' from '/Library/Frameworks/Python.framework/Versions/3.7/lib/python3.7/site-packages/IPython/core/magics/logging.py'>, 'IPython.core.magics.namespace': <module 'IPython.core.magics.namespace' from '/Library/Frameworks/Python.framework/Versions/3.7/lib/python3.7/site-packages/IPython/core/magics/namespace.py'>, 'IPython.core.magics.osm': <module 'IPython.core.magics.osm' from '/Library/Frameworks/Python.framework/Versions/3.7/lib/python3.7/site-packages/IPython/core/magics/osm.py'>, 'IPython.core.magics.packaging': <module 'IPython.core.magics.packaging' from '/Library/Frameworks/Python.framework/Versions/3.7/lib/python3.7/site-packages/IPython/core/magics/packaging.py'>, 'IPython.core.magics.pylab': <module 'IPython.core.magics.pylab' from '/Library/Frameworks/Python.framework/Versions/3.7/lib/python3.7/site-packages/IPython/core/magics/pylab.py'>, 'IPython.core.pylabtools': <module 'IPython.core.pylabtools' from '/Library/Frameworks/Python.framework/Versions/3.7/lib/python3.7/site-packages/IPython/core/pylabtools.py'>, 'IPython.core.magics.script': <module 'IPython.core.magics.script' from '/Library/Frameworks/Python.framework/Versions/3.7/lib/python3.7/site-packages/IPython/core/magics/script.py'>, 'IPython.lib.backgroundjobs': <module 'IPython.lib.backgroundjobs' from '/Library/Frameworks/Python.framework/Versions/3.7/lib/python3.7/site-packages/IPython/lib/backgroundjobs.py'>, 'IPython.core.shellapp': <module 'IPython.core.shellapp' from '/Library/Frameworks/Python.framework/Versions/3.7/lib/python3.7/site-packages/IPython/core/shellapp.py'>, 'IPython.extensions': <module 'IPython.extensions' from '/Library/Frameworks/Python.framework/Versions/3.7/lib/python3.7/site-packages/IPython/extensions/__init__.py'>, 'IPython.extensions.storemagic': <module 'IPython.extensions.storemagic' from '/Library/Frameworks/Python.framework/Versions/3.7/lib/python3.7/site-packages/IPython/extensions/storemagic.py'>, 'IPython.utils.frame': <module 'IPython.utils.frame' from '/Library/Frameworks/Python.framework/Versions/3.7/lib/python3.7/site-packages/IPython/utils/frame.py'>, 'jupyter_client': <module 'jupyter_client' from '/Library/Frameworks/Python.framework/Versions/3.7/lib/python3.7/site-packages/jupyter_client/__init__.py'>, 'jupyter_client._version': <module 'jupyter_client._version' from '/Library/Frameworks/Python.framework/Versions/3.7/lib/python3.7/site-packages/jupyter_client/_version.py'>, 'jupyter_client.connect': <module 'jupyter_client.connect' from '/Library/Frameworks/Python.framework/Versions/3.7/lib/python3.7/site-packages/jupyter_client/connect.py'>, 'zmq': <module 'zmq' from '/Library/Frameworks/Python.framework/Versions/3.7/lib/python3.7/site-packages/zmq/__init__.py'>, 'ctypes': <module 'ctypes' from '/Library/Frameworks/Python.framework/Versions/3.7/lib/python3.7/ctypes/__init__.py'>, '_ctypes': <module '_ctypes' from '/Library/Frameworks/Python.framework/Versions/3.7/lib/python3.7/lib-dynload/_ctypes.cpython-37m-darwin.so'>, 'ctypes._endian': <module 'ctypes._endian' from '/Library/Frameworks/Python.framework/Versions/3.7/lib/python3.7/ctypes/_endian.py'>, 'zmq.libzmq': <module 'zmq.libzmq' from '/Library/Frameworks/Python.framework/Versions/3.7/lib/python3.7/site-packages/zmq/libzmq.cpython-37m-darwin.so'>, 'zmq.backend': <module 'zmq.backend' from '/Library/Frameworks/Python.framework/Versions/3.7/lib/python3.7/site-packages/zmq/backend/__init__.py'>, 'zmq.backend.select': <module 'zmq.backend.select' from '/Library/Frameworks/Python.framework/Versions/3.7/lib/python3.7/site-packages/zmq/backend/select.py'>, 'zmq.backend.cython': <module 'zmq.backend.cython' from '/Library/Frameworks/Python.framework/Versions/3.7/lib/python3.7/site-packages/zmq/backend/cython/__init__.py'>, 'zmq.backend.cython.constants': <module 'zmq.backend.cython.constants' from '/Library/Frameworks/Python.framework/Versions/3.7/lib/python3.7/site-packages/zmq/backend/cython/constants.cpython-37m-darwin.so'>, 'cython_runtime': <module 'cython_runtime'>, 'zmq.backend.cython.error': <module 'zmq.backend.cython.error' from '/Library/Frameworks/Python.framework/Versions/3.7/lib/python3.7/site-packages/zmq/backend/cython/error.cpython-37m-darwin.so'>, '_cython_0_29_6': <module '_cython_0_29_6'>, 'zmq.backend.cython.message': <module 'zmq.backend.cython.message' from '/Library/Frameworks/Python.framework/Versions/3.7/lib/python3.7/site-packages/zmq/backend/cython/message.cpython-37m-darwin.so'>, 'zmq.error': <module 'zmq.error' from '/Library/Frameworks/Python.framework/Versions/3.7/lib/python3.7/site-packages/zmq/error.py'>, 'zmq.backend.cython.context': <module 'zmq.backend.cython.context' from '/Library/Frameworks/Python.framework/Versions/3.7/lib/python3.7/site-packages/zmq/backend/cython/context.cpython-37m-darwin.so'>, 'zmq.backend.cython.socket': <module 'zmq.backend.cython.socket' from '/Library/Frameworks/Python.framework/Versions/3.7/lib/python3.7/site-packages/zmq/backend/cython/socket.cpython-37m-darwin.so'>, 'zmq.backend.cython.utils': <module 'zmq.backend.cython.utils' from '/Library/Frameworks/Python.framework/Versions/3.7/lib/python3.7/site-packages/zmq/backend/cython/utils.cpython-37m-darwin.so'>, 'zmq.backend.cython._poll': <module 'zmq.backend.cython._poll' from '/Library/Frameworks/Python.framework/Versions/3.7/lib/python3.7/site-packages/zmq/backend/cython/_poll.cpython-37m-darwin.so'>, 'zmq.backend.cython._version': <module 'zmq.backend.cython._version' from '/Library/Frameworks/Python.framework/Versions/3.7/lib/python3.7/site-packages/zmq/backend/cython/_version.cpython-37m-darwin.so'>, 'zmq.backend.cython._device': <module 'zmq.backend.cython._device' from '/Library/Frameworks/Python.framework/Versions/3.7/lib/python3.7/site-packages/zmq/backend/cython/_device.cpython-37m-darwin.so'>, 'zmq.backend.cython._proxy_steerable': <module 'zmq.backend.cython._proxy_steerable' from '/Library/Frameworks/Python.framework/Versions/3.7/lib/python3.7/site-packages/zmq/backend/cython/_proxy_steerable.cpython-37m-darwin.so'>, 'zmq.sugar': <module 'zmq.sugar' from '/Library/Frameworks/Python.framework/Versions/3.7/lib/python3.7/site-packages/zmq/sugar/__init__.py'>, 'zmq.sugar.constants': <module 'zmq.sugar.constants' from '/Library/Frameworks/Python.framework/Versions/3.7/lib/python3.7/site-packages/zmq/sugar/constants.py'>, 'zmq.utils': <module 'zmq.utils' from '/Library/Frameworks/Python.framework/Versions/3.7/lib/python3.7/site-packages/zmq/utils/__init__.py'>, 'zmq.utils.constant_names': <module 'zmq.utils.constant_names' from '/Library/Frameworks/Python.framework/Versions/3.7/lib/python3.7/site-packages/zmq/utils/constant_names.py'>, 'zmq.sugar.context': <module 'zmq.sugar.context' from '/Library/Frameworks/Python.framework/Versions/3.7/lib/python3.7/site-packages/zmq/sugar/context.py'>, 'zmq.sugar.attrsettr': <module 'zmq.sugar.attrsettr' from '/Library/Frameworks/Python.framework/Versions/3.7/lib/python3.7/site-packages/zmq/sugar/attrsettr.py'>, 'zmq.sugar.socket': <module 'zmq.sugar.socket' from '/Library/Frameworks/Python.framework/Versions/3.7/lib/python3.7/site-packages/zmq/sugar/socket.py'>, 'zmq.sugar.poll': <module 'zmq.sugar.poll' from '/Library/Frameworks/Python.framework/Versions/3.7/lib/python3.7/site-packages/zmq/sugar/poll.py'>, 'zmq.utils.jsonapi': <module 'zmq.utils.jsonapi' from '/Library/Frameworks/Python.framework/Versions/3.7/lib/python3.7/site-packages/zmq/utils/jsonapi.py'>, 'zmq.utils.strtypes': <module 'zmq.utils.strtypes' from '/Library/Frameworks/Python.framework/Versions/3.7/lib/python3.7/site-packages/zmq/utils/strtypes.py'>, 'zmq.sugar.frame': <module 'zmq.sugar.frame' from '/Library/Frameworks/Python.framework/Versions/3.7/lib/python3.7/site-packages/zmq/sugar/frame.py'>, 'zmq.sugar.tracker': <module 'zmq.sugar.tracker' from '/Library/Frameworks/Python.framework/Versions/3.7/lib/python3.7/site-packages/zmq/sugar/tracker.py'>, 'zmq.sugar.version': <module 'zmq.sugar.version' from '/Library/Frameworks/Python.framework/Versions/3.7/lib/python3.7/site-packages/zmq/sugar/version.py'>, 'zmq.sugar.stopwatch': <module 'zmq.sugar.stopwatch' from '/Library/Frameworks/Python.framework/Versions/3.7/lib/python3.7/site-packages/zmq/sugar/stopwatch.py'>, 'jupyter_client.localinterfaces': <module 'jupyter_client.localinterfaces' from '/Library/Frameworks/Python.framework/Versions/3.7/lib/python3.7/site-packages/jupyter_client/localinterfaces.py'>, 'jupyter_core': <module 'jupyter_core' from '/Library/Frameworks/Python.framework/Versions/3.7/lib/python3.7/site-packages/jupyter_core/__init__.py'>, 'jupyter_core.version': <module 'jupyter_core.version' from '/Library/Frameworks/Python.framework/Versions/3.7/lib/python3.7/site-packages/jupyter_core/version.py'>, 'jupyter_core.paths': <module 'jupyter_core.paths' from '/Library/Frameworks/Python.framework/Versions/3.7/lib/python3.7/site-packages/jupyter_core/paths.py'>, 'jupyter_client.launcher': <module 'jupyter_client.launcher' from '/Library/Frameworks/Python.framework/Versions/3.7/lib/python3.7/site-packages/jupyter_client/launcher.py'>, 'traitlets.log': <module 'traitlets.log' from '/Library/Frameworks/Python.framework/Versions/3.7/lib/python3.7/site-packages/traitlets/log.py'>, 'jupyter_client.client': <module 'jupyter_client.client' from '/Library/Frameworks/Python.framework/Versions/3.7/lib/python3.7/site-packages/jupyter_client/client.py'>, 'jupyter_client.channels': <module 'jupyter_client.channels' from '/Library/Frameworks/Python.framework/Versions/3.7/lib/python3.7/site-packages/jupyter_client/channels.py'>, 'jupyter_client.channelsabc': <module 'jupyter_client.channelsabc' from '/Library/Frameworks/Python.framework/Versions/3.7/lib/python3.7/site-packages/jupyter_client/channelsabc.py'>, 'jupyter_client.clientabc': <module 'jupyter_client.clientabc' from '/Library/Frameworks/Python.framework/Versions/3.7/lib/python3.7/site-packages/jupyter_client/clientabc.py'>, 'jupyter_client.manager': <module 'jupyter_client.manager' from '/Library/Frameworks/Python.framework/Versions/3.7/lib/python3.7/site-packages/jupyter_client/manager.py'>, 'jupyter_client.kernelspec': <module 'jupyter_client.kernelspec' from '/Library/Frameworks/Python.framework/Versions/3.7/lib/python3.7/site-packages/jupyter_client/kernelspec.py'>, 'jupyter_client.managerabc': <module 'jupyter_client.managerabc' from '/Library/Frameworks/Python.framework/Versions/3.7/lib/python3.7/site-packages/jupyter_client/managerabc.py'>, 'jupyter_client.blocking': <module 'jupyter_client.blocking' from '/Library/Frameworks/Python.framework/Versions/3.7/lib/python3.7/site-packages/jupyter_client/blocking/__init__.py'>, 'jupyter_client.blocking.client': <module 'jupyter_client.blocking.client' from '/Library/Frameworks/Python.framework/Versions/3.7/lib/python3.7/site-packages/jupyter_client/blocking/client.py'>, 'jupyter_client.blocking.channels': <module 'jupyter_client.blocking.channels' from '/Library/Frameworks/Python.framework/Versions/3.7/lib/python3.7/site-packages/jupyter_client/blocking/channels.py'>, 'jupyter_client.multikernelmanager': <module 'jupyter_client.multikernelmanager' from '/Library/Frameworks/Python.framework/Versions/3.7/lib/python3.7/site-packages/jupyter_client/multikernelmanager.py'>, 'uuid': <module 'uuid' from '/Library/Frameworks/Python.framework/Versions/3.7/lib/python3.7/uuid.py'>, '_uuid': <module '_uuid' from '/Library/Frameworks/Python.framework/Versions/3.7/lib/python3.7/lib-dynload/_uuid.cpython-37m-darwin.so'>, 'ipykernel.kernelapp': <module 'ipykernel.kernelapp' from '/Library/Frameworks/Python.framework/Versions/3.7/lib/python3.7/site-packages/ipykernel/kernelapp.py'>, 'tornado': <module 'tornado' from '/Library/Frameworks/Python.framework/Versions/3.7/lib/python3.7/site-packages/tornado/__init__.py'>, 'tornado.ioloop': <module 'tornado.ioloop' from '/Library/Frameworks/Python.framework/Versions/3.7/lib/python3.7/site-packages/tornado/ioloop.py'>, 'numbers': <module 'numbers' from '/Library/Frameworks/Python.framework/Versions/3.7/lib/python3.7/numbers.py'>, 'tornado.concurrent': <module 'tornado.concurrent' from '/Library/Frameworks/Python.framework/Versions/3.7/lib/python3.7/site-packages/tornado/concurrent.py'>, 'tornado.log': <module 'tornado.log' from '/Library/Frameworks/Python.framework/Versions/3.7/lib/python3.7/site-packages/tornado/log.py'>, 'logging.handlers': <module 'logging.handlers' from '/Library/Frameworks/Python.framework/Versions/3.7/lib/python3.7/logging/handlers.py'>, 'tornado.escape': <module 'tornado.escape' from '/Library/Frameworks/Python.framework/Versions/3.7/lib/python3.7/site-packages/tornado/escape.py'>, 'tornado.util': <module 'tornado.util' from '/Library/Frameworks/Python.framework/Versions/3.7/lib/python3.7/site-packages/tornado/util.py'>, 'tornado.speedups': <module 'tornado.speedups' from '/Library/Frameworks/Python.framework/Versions/3.7/lib/python3.7/site-packages/tornado/speedups.cpython-37m-darwin.so'>, 'curses': <module 'curses' from '/Library/Frameworks/Python.framework/Versions/3.7/lib/python3.7/curses/__init__.py'>, '_curses': <module '_curses' from '/Library/Frameworks/Python.framework/Versions/3.7/lib/python3.7/lib-dynload/_curses.cpython-37m-darwin.so'>, 'zmq.eventloop': <module 'zmq.eventloop' from '/Library/Frameworks/Python.framework/Versions/3.7/lib/python3.7/site-packages/zmq/eventloop/__init__.py'>, 'zmq.eventloop.ioloop': <module 'zmq.eventloop.ioloop' from '/Library/Frameworks/Python.framework/Versions/3.7/lib/python3.7/site-packages/zmq/eventloop/ioloop.py'>, 'tornado.platform': <module 'tornado.platform' from '/Library/Frameworks/Python.framework/Versions/3.7/lib/python3.7/site-packages/tornado/platform/__init__.py'>, 'tornado.platform.asyncio': <module 'tornado.platform.asyncio' from '/Library/Frameworks/Python.framework/Versions/3.7/lib/python3.7/site-packages/tornado/platform/asyncio.py'>, 'tornado.gen': <module 'tornado.gen' from '/Library/Frameworks/Python.framework/Versions/3.7/lib/python3.7/site-packages/tornado/gen.py'>, 'zmq.eventloop.zmqstream': <module 'zmq.eventloop.zmqstream' from '/Library/Frameworks/Python.framework/Versions/3.7/lib/python3.7/site-packages/zmq/eventloop/zmqstream.py'>, 'ipykernel.iostream': <module 'ipykernel.iostream' from '/Library/Frameworks/Python.framework/Versions/3.7/lib/python3.7/site-packages/ipykernel/iostream.py'>, 'imp': <module 'imp' from '/Library/Frameworks/Python.framework/Versions/3.7/lib/python3.7/imp.py'>, 'jupyter_client.session': <module 'jupyter_client.session' from '/Library/Frameworks/Python.framework/Versions/3.7/lib/python3.7/site-packages/jupyter_client/session.py'>, 'hmac': <module 'hmac' from '/Library/Frameworks/Python.framework/Versions/3.7/lib/python3.7/hmac.py'>, 'jupyter_client.jsonutil': <module 'jupyter_client.jsonutil' from '/Library/Frameworks/Python.framework/Versions/3.7/lib/python3.7/site-packages/jupyter_client/jsonutil.py'>, 'dateutil': <module 'dateutil' from '/Library/Frameworks/Python.framework/Versions/3.7/lib/python3.7/site-packages/dateutil/__init__.py'>, 'dateutil._version': <module 'dateutil._version' from '/Library/Frameworks/Python.framework/Versions/3.7/lib/python3.7/site-packages/dateutil/_version.py'>, 'dateutil.parser': <module 'dateutil.parser' from '/Library/Frameworks/Python.framework/Versions/3.7/lib/python3.7/site-packages/dateutil/parser/__init__.py'>, 'dateutil.parser._parser': <module 'dateutil.parser._parser' from '/Library/Frameworks/Python.framework/Versions/3.7/lib/python3.7/site-packages/dateutil/parser/_parser.py'>, 'decimal': <module 'decimal' from '/Library/Frameworks/Python.framework/Versions/3.7/lib/python3.7/decimal.py'>, '_decimal': <module '_decimal' from '/Library/Frameworks/Python.framework/Versions/3.7/lib/python3.7/lib-dynload/_decimal.cpython-37m-darwin.so'>, 'dateutil.relativedelta': <module 'dateutil.relativedelta' from '/Library/Frameworks/Python.framework/Versions/3.7/lib/python3.7/site-packages/dateutil/relativedelta.py'>, 'dateutil._common': <module 'dateutil._common' from '/Library/Frameworks/Python.framework/Versions/3.7/lib/python3.7/site-packages/dateutil/_common.py'>, 'dateutil.tz': <module 'dateutil.tz' from '/Library/Frameworks/Python.framework/Versions/3.7/lib/python3.7/site-packages/dateutil/tz/__init__.py'>, 'dateutil.tz.tz': <module 'dateutil.tz.tz' from '/Library/Frameworks/Python.framework/Versions/3.7/lib/python3.7/site-packages/dateutil/tz/tz.py'>, 'dateutil.tz._common': <module 'dateutil.tz._common' from '/Library/Frameworks/Python.framework/Versions/3.7/lib/python3.7/site-packages/dateutil/tz/_common.py'>, 'dateutil.tz._factories': <module 'dateutil.tz._factories' from '/Library/Frameworks/Python.framework/Versions/3.7/lib/python3.7/site-packages/dateutil/tz/_factories.py'>, 'dateutil.parser.isoparser': <module 'dateutil.parser.isoparser' from '/Library/Frameworks/Python.framework/Versions/3.7/lib/python3.7/site-packages/dateutil/parser/isoparser.py'>, '_strptime': <module '_strptime' from '/Library/Frameworks/Python.framework/Versions/3.7/lib/python3.7/_strptime.py'>, 'jupyter_client.adapter': <module 'jupyter_client.adapter' from '/Library/Frameworks/Python.framework/Versions/3.7/lib/python3.7/site-packages/jupyter_client/adapter.py'>, 'ipykernel.heartbeat': <module 'ipykernel.heartbeat' from '/Library/Frameworks/Python.framework/Versions/3.7/lib/python3.7/site-packages/ipykernel/heartbeat.py'>, 'ipykernel.ipkernel': <module 'ipykernel.ipkernel' from '/Library/Frameworks/Python.framework/Versions/3.7/lib/python3.7/site-packages/ipykernel/ipkernel.py'>, 'IPython.utils.tokenutil': <module 'IPython.utils.tokenutil' from '/Library/Frameworks/Python.framework/Versions/3.7/lib/python3.7/site-packages/IPython/utils/tokenutil.py'>, 'ipykernel.comm': <module 'ipykernel.comm' from '/Library/Frameworks/Python.framework/Versions/3.7/lib/python3.7/site-packages/ipykernel/comm/__init__.py'>, 'ipykernel.comm.manager': <module 'ipykernel.comm.manager' from '/Library/Frameworks/Python.framework/Versions/3.7/lib/python3.7/site-packages/ipykernel/comm/manager.py'>, 'ipykernel.comm.comm': <module 'ipykernel.comm.comm' from '/Library/Frameworks/Python.framework/Versions/3.7/lib/python3.7/site-packages/ipykernel/comm/comm.py'>, 'ipykernel.kernelbase': <module 'ipykernel.kernelbase' from '/Library/Frameworks/Python.framework/Versions/3.7/lib/python3.7/site-packages/ipykernel/kernelbase.py'>, 'tornado.queues': <module 'tornado.queues' from '/Library/Frameworks/Python.framework/Versions/3.7/lib/python3.7/site-packages/tornado/queues.py'>, 'tornado.locks': <module 'tornado.locks' from '/Library/Frameworks/Python.framework/Versions/3.7/lib/python3.7/site-packages/tornado/locks.py'>, 'ipykernel.jsonutil': <module 'ipykernel.jsonutil' from '/Library/Frameworks/Python.framework/Versions/3.7/lib/python3.7/site-packages/ipykernel/jsonutil.py'>, 'ipykernel.zmqshell': <module 'ipykernel.zmqshell' from '/Library/Frameworks/Python.framework/Versions/3.7/lib/python3.7/site-packages/ipykernel/zmqshell.py'>, 'IPython.core.payloadpage': <module 'IPython.core.payloadpage' from '/Library/Frameworks/Python.framework/Versions/3.7/lib/python3.7/site-packages/IPython/core/payloadpage.py'>, 'ipykernel.displayhook': <module 'ipykernel.displayhook' from '/Library/Frameworks/Python.framework/Versions/3.7/lib/python3.7/site-packages/ipykernel/displayhook.py'>, 'ipykernel.parentpoller': <module 'ipykernel.parentpoller' from '/Library/Frameworks/Python.framework/Versions/3.7/lib/python3.7/site-packages/ipykernel/parentpoller.py'>, 'faulthandler': <module 'faulthandler' (built-in)>, 'ipykernel.datapub': <module 'ipykernel.datapub' from '/Library/Frameworks/Python.framework/Versions/3.7/lib/python3.7/site-packages/ipykernel/datapub.py'>, 'ipykernel.serialize': <module 'ipykernel.serialize' from '/Library/Frameworks/Python.framework/Versions/3.7/lib/python3.7/site-packages/ipykernel/serialize.py'>, 'ipykernel.pickleutil': <module 'ipykernel.pickleutil' from '/Library/Frameworks/Python.framework/Versions/3.7/lib/python3.7/site-packages/ipykernel/pickleutil.py'>, 'ipykernel.codeutil': <module 'ipykernel.codeutil' from '/Library/Frameworks/Python.framework/Versions/3.7/lib/python3.7/site-packages/ipykernel/codeutil.py'>, 'IPython.core.completerlib': <module 'IPython.core.completerlib' from '/Library/Frameworks/Python.framework/Versions/3.7/lib/python3.7/site-packages/IPython/core/completerlib.py'>, 'storemagic': <module 'storemagic' from '/Library/Frameworks/Python.framework/Versions/3.7/lib/python3.7/site-packages/IPython/extensions/storemagic.py'>, 'ipywidgets': <module 'ipywidgets' from '/Library/Frameworks/Python.framework/Versions/3.7/lib/python3.7/site-packages/ipywidgets/__init__.py'>, 'ipywidgets._version': <module 'ipywidgets._version' from '/Library/Frameworks/Python.framework/Versions/3.7/lib/python3.7/site-packages/ipywidgets/_version.py'>, 'ipywidgets.widgets': <module 'ipywidgets.widgets' from '/Library/Frameworks/Python.framework/Versions/3.7/lib/python3.7/site-packages/ipywidgets/widgets/__init__.py'>, 'ipywidgets.widgets.widget': <module 'ipywidgets.widgets.widget' from '/Library/Frameworks/Python.framework/Versions/3.7/lib/python3.7/site-packages/ipywidgets/widgets/widget.py'>, 'ipywidgets.widgets.domwidget': <module 'ipywidgets.widgets.domwidget' from '/Library/Frameworks/Python.framework/Versions/3.7/lib/python3.7/site-packages/ipywidgets/widgets/domwidget.py'>, 'ipywidgets.widgets.trait_types': <module 'ipywidgets.widgets.trait_types' from '/Library/Frameworks/Python.framework/Versions/3.7/lib/python3.7/site-packages/ipywidgets/widgets/trait_types.py'>, 'ipywidgets.widgets.widget_layout': <module 'ipywidgets.widgets.widget_layout' from '/Library/Frameworks/Python.framework/Versions/3.7/lib/python3.7/site-packages/ipywidgets/widgets/widget_layout.py'>, 'ipywidgets.widgets.widget_style': <module 'ipywidgets.widgets.widget_style' from '/Library/Frameworks/Python.framework/Versions/3.7/lib/python3.7/site-packages/ipywidgets/widgets/widget_style.py'>, 'ipywidgets.widgets.valuewidget': <module 'ipywidgets.widgets.valuewidget' from '/Library/Frameworks/Python.framework/Versions/3.7/lib/python3.7/site-packages/ipywidgets/widgets/valuewidget.py'>, 'ipywidgets.widgets.widget_core': <module 'ipywidgets.widgets.widget_core' from '/Library/Frameworks/Python.framework/Versions/3.7/lib/python3.7/site-packages/ipywidgets/widgets/widget_core.py'>, 'ipywidgets.widgets.widget_bool': <module 'ipywidgets.widgets.widget_bool' from '/Library/Frameworks/Python.framework/Versions/3.7/lib/python3.7/site-packages/ipywidgets/widgets/widget_bool.py'>, 'ipywidgets.widgets.widget_description': <module 'ipywidgets.widgets.widget_description' from '/Library/Frameworks/Python.framework/Versions/3.7/lib/python3.7/site-packages/ipywidgets/widgets/widget_description.py'>, 'ipywidgets.widgets.widget_button': <module 'ipywidgets.widgets.widget_button' from '/Library/Frameworks/Python.framework/Versions/3.7/lib/python3.7/site-packages/ipywidgets/widgets/widget_button.py'>, 'ipywidgets.widgets.widget_box': <module 'ipywidgets.widgets.widget_box' from '/Library/Frameworks/Python.framework/Versions/3.7/lib/python3.7/site-packages/ipywidgets/widgets/widget_box.py'>, 'ipywidgets.widgets.docutils': <module 'ipywidgets.widgets.docutils' from '/Library/Frameworks/Python.framework/Versions/3.7/lib/python3.7/site-packages/ipywidgets/widgets/docutils.py'>, 'ipywidgets.widgets.widget_float': <module 'ipywidgets.widgets.widget_float' from '/Library/Frameworks/Python.framework/Versions/3.7/lib/python3.7/site-packages/ipywidgets/widgets/widget_float.py'>, 'ipywidgets.widgets.widget_int': <module 'ipywidgets.widgets.widget_int' from '/Library/Frameworks/Python.framework/Versions/3.7/lib/python3.7/site-packages/ipywidgets/widgets/widget_int.py'>, 'ipywidgets.widgets.widget_color': <module 'ipywidgets.widgets.widget_color' from '/Library/Frameworks/Python.framework/Versions/3.7/lib/python3.7/site-packages/ipywidgets/widgets/widget_color.py'>, 'ipywidgets.widgets.widget_date': <module 'ipywidgets.widgets.widget_date' from '/Library/Frameworks/Python.framework/Versions/3.7/lib/python3.7/site-packages/ipywidgets/widgets/widget_date.py'>, 'ipywidgets.widgets.widget_output': <module 'ipywidgets.widgets.widget_output' from '/Library/Frameworks/Python.framework/Versions/3.7/lib/python3.7/site-packages/ipywidgets/widgets/widget_output.py'>, 'ipywidgets.widgets.widget_selection': <module 'ipywidgets.widgets.widget_selection' from '/Library/Frameworks/Python.framework/Versions/3.7/lib/python3.7/site-packages/ipywidgets/widgets/widget_selection.py'>, 'ipywidgets.widgets.widget_selectioncontainer': <module 'ipywidgets.widgets.widget_selectioncontainer' from '/Library/Frameworks/Python.framework/Versions/3.7/lib/python3.7/site-packages/ipywidgets/widgets/widget_selectioncontainer.py'>, 'ipywidgets.widgets.widget_string': <module 'ipywidgets.widgets.widget_string' from '/Library/Frameworks/Python.framework/Versions/3.7/lib/python3.7/site-packages/ipywidgets/widgets/widget_string.py'>, 'ipywidgets.widgets.widget_controller': <module 'ipywidgets.widgets.widget_controller' from '/Library/Frameworks/Python.framework/Versions/3.7/lib/python3.7/site-packages/ipywidgets/widgets/widget_controller.py'>, 'ipywidgets.widgets.interaction': <module 'ipywidgets.widgets.interaction' from '/Library/Frameworks/Python.framework/Versions/3.7/lib/python3.7/site-packages/ipywidgets/widgets/interaction.py'>, 'ipywidgets.widgets.widget_link': <module 'ipywidgets.widgets.widget_link' from '/Library/Frameworks/Python.framework/Versions/3.7/lib/python3.7/site-packages/ipywidgets/widgets/widget_link.py'>, 'ipywidgets.widgets.widget_media': <module 'ipywidgets.widgets.widget_media' from '/Library/Frameworks/Python.framework/Versions/3.7/lib/python3.7/site-packages/ipywidgets/widgets/widget_media.py'>, 'zmq.utils.garbage': <module 'zmq.utils.garbage' from '/Library/Frameworks/Python.framework/Versions/3.7/lib/python3.7/site-packages/zmq/utils/garbage.py'>}\n"
     ]
    }
   ],
   "source": [
    "import sys\n",
    "print(sys.modules)"
   ]
  },
  {
   "cell_type": "code",
   "execution_count": 24,
   "metadata": {},
   "outputs": [
    {
     "name": "stdout",
     "output_type": "stream",
     "text": [
      "4540030392\n",
      "4540030392\n",
      "4540030392\n"
     ]
    }
   ],
   "source": [
    "import math\n",
    "print(id(math))\n",
    "print(id(sys.modules['math']))\n",
    "import math\n",
    "print(id(math))\n",
    "\n",
    "# it is first created in sys module, every time check if it is in there and reference it, if no then creating"
   ]
  },
  {
   "cell_type": "code",
   "execution_count": 25,
   "metadata": {},
   "outputs": [],
   "source": [
    "sys.modules['test2'] = lambda: \"Tricking python cache modules\""
   ]
  },
  {
   "cell_type": "code",
   "execution_count": 26,
   "metadata": {},
   "outputs": [
    {
     "data": {
      "text/plain": [
       "'Tricking python cache modules'"
      ]
     },
     "execution_count": 26,
     "metadata": {},
     "output_type": "execute_result"
    }
   ],
   "source": [
    "sys.modules['test2']()"
   ]
  },
  {
   "cell_type": "code",
   "execution_count": 27,
   "metadata": {},
   "outputs": [
    {
     "data": {
      "text/plain": [
       "function"
      ]
     },
     "execution_count": 27,
     "metadata": {},
     "output_type": "execute_result"
    }
   ],
   "source": [
    "type(sys.modules['test2'])"
   ]
  },
  {
   "cell_type": "code",
   "execution_count": 53,
   "metadata": {},
   "outputs": [
    {
     "data": {
      "text/plain": [
       "['/Users/natigvahabov/Dev/github/deep-dive-python',\n",
       " '/Library/Frameworks/Python.framework/Versions/3.7/lib/python37.zip',\n",
       " '/Library/Frameworks/Python.framework/Versions/3.7/lib/python3.7',\n",
       " '/Library/Frameworks/Python.framework/Versions/3.7/lib/python3.7/lib-dynload',\n",
       " '',\n",
       " '/Library/Frameworks/Python.framework/Versions/3.7/lib/python3.7/site-packages',\n",
       " '/Library/Frameworks/Python.framework/Versions/3.7/lib/python3.7/site-packages/IPython/extensions',\n",
       " '/Users/natigvahabov/.ipython',\n",
       " '/',\n",
       " 'U',\n",
       " 's',\n",
       " 'e',\n",
       " 'r',\n",
       " 's',\n",
       " '/',\n",
       " 'n',\n",
       " 'a',\n",
       " 't',\n",
       " 'i',\n",
       " 'g',\n",
       " 'v',\n",
       " 'a',\n",
       " 'h',\n",
       " 'a',\n",
       " 'b',\n",
       " 'o',\n",
       " 'v',\n",
       " '/',\n",
       " 'D',\n",
       " 'e',\n",
       " 'v',\n",
       " '/',\n",
       " 'g',\n",
       " 'i',\n",
       " 't',\n",
       " 'h',\n",
       " 'u',\n",
       " 'b',\n",
       " '/',\n",
       " 'd',\n",
       " 'e',\n",
       " 'e',\n",
       " 'p',\n",
       " '-',\n",
       " 'd',\n",
       " 'i',\n",
       " 'v',\n",
       " 'e',\n",
       " '-',\n",
       " 'p',\n",
       " 'y',\n",
       " 't',\n",
       " 'h',\n",
       " 'o',\n",
       " 'n',\n",
       " '/',\n",
       " 'l',\n",
       " 'i',\n",
       " 'b',\n",
       " '/',\n",
       " 'U',\n",
       " 's',\n",
       " 'e',\n",
       " 'r',\n",
       " 's',\n",
       " '/',\n",
       " 'n',\n",
       " 'a',\n",
       " 't',\n",
       " 'i',\n",
       " 'g',\n",
       " 'v',\n",
       " 'a',\n",
       " 'h',\n",
       " 'a',\n",
       " 'b',\n",
       " 'o',\n",
       " 'v',\n",
       " '/',\n",
       " 'D',\n",
       " 'e',\n",
       " 'v',\n",
       " '/',\n",
       " 'g',\n",
       " 'i',\n",
       " 't',\n",
       " 'h',\n",
       " 'u',\n",
       " 'b',\n",
       " '/',\n",
       " 'd',\n",
       " 'e',\n",
       " 'e',\n",
       " 'p',\n",
       " '-',\n",
       " 'd',\n",
       " 'i',\n",
       " 'v',\n",
       " 'e',\n",
       " '-',\n",
       " 'p',\n",
       " 'y',\n",
       " 't',\n",
       " 'h',\n",
       " 'o',\n",
       " 'n',\n",
       " '/',\n",
       " 'l',\n",
       " 'i',\n",
       " 'b']"
      ]
     },
     "execution_count": 53,
     "metadata": {},
     "output_type": "execute_result"
    }
   ],
   "source": [
    "sys.path"
   ]
  },
  {
   "cell_type": "code",
   "execution_count": 29,
   "metadata": {},
   "outputs": [],
   "source": [
    "import importlib"
   ]
  },
  {
   "cell_type": "code",
   "execution_count": 30,
   "metadata": {},
   "outputs": [
    {
     "data": {
      "text/plain": [
       "[_frozen_importlib.BuiltinImporter,\n",
       " _frozen_importlib.FrozenImporter,\n",
       " _frozen_importlib_external.PathFinder,\n",
       " <six._SixMetaPathImporter at 0x10ebad550>]"
      ]
     },
     "execution_count": 30,
     "metadata": {},
     "output_type": "execute_result"
    }
   ],
   "source": [
    "sys.meta_path"
   ]
  },
  {
   "cell_type": "code",
   "execution_count": 31,
   "metadata": {},
   "outputs": [
    {
     "data": {
      "text/plain": [
       "ModuleSpec(name='importlib', loader=<_frozen_importlib_external.SourceFileLoader object at 0x10e84feb8>, origin='/Library/Frameworks/Python.framework/Versions/3.7/lib/python3.7/importlib/__init__.py', submodule_search_locations=['/Library/Frameworks/Python.framework/Versions/3.7/lib/python3.7/importlib'])"
      ]
     },
     "execution_count": 31,
     "metadata": {},
     "output_type": "execute_result"
    }
   ],
   "source": [
    "importlib.util.find_spec('importlib')"
   ]
  },
  {
   "cell_type": "code",
   "execution_count": 47,
   "metadata": {},
   "outputs": [],
   "source": [
    "with open('module.py', 'w') as code_file:\n",
    "    code_file.write(\"print('Running our test module') \\n\")\n",
    "    code_file.write(\"a=200 \\n\")"
   ]
  },
  {
   "cell_type": "code",
   "execution_count": 48,
   "metadata": {},
   "outputs": [
    {
     "data": {
      "text/plain": [
       "ModuleSpec(name='module', loader=<_frozen_importlib_external.SourceFileLoader object at 0x11123a978>, origin='/Users/natigvahabov/Dev/github/deep-dive-python/module.py')"
      ]
     },
     "execution_count": 48,
     "metadata": {},
     "output_type": "execute_result"
    }
   ],
   "source": [
    "importlib.util.find_spec('module')"
   ]
  },
  {
   "cell_type": "code",
   "execution_count": 50,
   "metadata": {},
   "outputs": [
    {
     "data": {
      "text/plain": [
       "False"
      ]
     },
     "execution_count": 50,
     "metadata": {},
     "output_type": "execute_result"
    }
   ],
   "source": [
    "'module' in globals()"
   ]
  },
  {
   "cell_type": "code",
   "execution_count": 51,
   "metadata": {},
   "outputs": [
    {
     "name": "stdout",
     "output_type": "stream",
     "text": [
      "Running our test module\n"
     ]
    }
   ],
   "source": [
    "import module"
   ]
  },
  {
   "cell_type": "code",
   "execution_count": 52,
   "metadata": {},
   "outputs": [
    {
     "data": {
      "text/plain": [
       "True"
      ]
     },
     "execution_count": 52,
     "metadata": {},
     "output_type": "execute_result"
    }
   ],
   "source": [
    "'module' in globals()"
   ]
  },
  {
   "cell_type": "code",
   "execution_count": null,
   "metadata": {},
   "outputs": [],
   "source": []
  }
 ],
 "metadata": {
  "kernelspec": {
   "display_name": "Python 3",
   "language": "python",
   "name": "python3"
  },
  "language_info": {
   "codemirror_mode": {
    "name": "ipython",
    "version": 3
   },
   "file_extension": ".py",
   "mimetype": "text/x-python",
   "name": "python",
   "nbconvert_exporter": "python",
   "pygments_lexer": "ipython3",
   "version": "3.7.3"
  }
 },
 "nbformat": 4,
 "nbformat_minor": 2
}
